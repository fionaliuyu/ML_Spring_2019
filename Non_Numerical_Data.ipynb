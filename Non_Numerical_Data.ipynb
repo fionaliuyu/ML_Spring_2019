{
 "cells": [
  {
   "cell_type": "code",
   "execution_count": 1,
   "metadata": {
    "slideshow": {
     "slide_type": "notes"
    }
   },
   "outputs": [],
   "source": [
    "# My standard magic !  You will see this in almost all my notebooks.\n",
    "\n",
    "from IPython.core.interactiveshell import InteractiveShell\n",
    "InteractiveShell.ast_node_interactivity = \"all\"\n",
    "\n",
    "# Reload all modules imported with %aimport\n",
    "%load_ext autoreload\n",
    "%autoreload 1\n",
    "\n",
    "%matplotlib inline"
   ]
  },
  {
   "cell_type": "markdown",
   "metadata": {
    "slideshow": {
     "slide_type": "slide"
    }
   },
   "source": [
    "# Categorical (Non numeric) data\n",
    "\n",
    "In this module we will learn how to deal with non-numeric data\n",
    "- categorical\n",
    "- image\n",
    "- text\n",
    "\n",
    "The non-numeric data may be\n",
    "- the target\n",
    "- a feature"
   ]
  },
  {
   "cell_type": "markdown",
   "metadata": {
    "slideshow": {
     "slide_type": "slide"
    }
   },
   "source": [
    "# Overview\n",
    "## Goals\n",
    "\n",
    "We will learn how to do Supervised Learning:Classification\n",
    "\n",
    "Recall that the target for a Classification problem is a discrete value (as opposed to continous for Regression).\n",
    "\n",
    "So by it's nature, we will have to deal with non-numeric targets.\n",
    "\n",
    "We will also deal with non-numeric features"
   ]
  },
  {
   "cell_type": "markdown",
   "metadata": {
    "slideshow": {
     "slide_type": "subslide"
    }
   },
   "source": [
    "## Plan\n",
    "\n",
    "- Introduce the Titanic challenge\n",
    "    - driving example for Classification\n",
    "    - will continue to use it in our module on Data Transformation\n",
    "- First pass at the challenge\n",
    "    - Naive approach, but makes the points\n",
    "    - Categorical (non-numeric) **binary** target\n",
    "    - Single non-numeric **binary** feature\n",
    "- Dealing with non-numeric, non-binary targets\n",
    "- Dealing with non-numeric, non-binary features\n",
    "    - Alternative data: images"
   ]
  },
  {
   "cell_type": "markdown",
   "metadata": {
    "slideshow": {
     "slide_type": "subslide"
    }
   },
   "source": [
    "<img src=external/scipy-2018-sklearn/notebooks/figures/ml_taxonomy.png>\n"
   ]
  },
  {
   "cell_type": "markdown",
   "metadata": {
    "slideshow": {
     "slide_type": "notes"
    }
   },
   "source": [
    "# Ideas\n",
    "\n"
   ]
  },
  {
   "cell_type": "markdown",
   "metadata": {
    "slideshow": {
     "slide_type": "slide"
    }
   },
   "source": [
    "# Non-numerical target: Classification, using the Titanic"
   ]
  },
  {
   "cell_type": "markdown",
   "metadata": {
    "slideshow": {
     "slide_type": "slide"
    }
   },
   "source": [
    "## Problem statement\n",
    "The Titanic was a ship ...\n",
    "\n",
    "The goal is to predict whether a passenger survives, based on passenger characteristics."
   ]
  },
  {
   "cell_type": "markdown",
   "metadata": {
    "slideshow": {
     "slide_type": "slide"
    }
   },
   "source": [
    "### Binary Classification\n",
    "\n",
    "In Regression, our target was a continous value.\n",
    "\n",
    "For Titanic, it is a binary value: Survive/Don't Survive\n",
    "\n",
    "So we have a non-numerical target with two possible values.\n",
    "\n",
    "In general, the objective is to choose one value from a set ($\\textrm{size}>= 2$) of possible values.\n",
    "\n",
    "The classifier will produce a number between 0 and 1 indicating the *probability* of being in the class (\"1\"). If the probability > 50%, the observation is classified (by the `predict` method) as being in the class.\n",
    "\n",
    "The general problem is *Multi-class classification*."
   ]
  },
  {
   "cell_type": "markdown",
   "metadata": {
    "slideshow": {
     "slide_type": "subslide"
    }
   },
   "source": [
    "The way to treat non-numeric values is not obvious and there are many *wrong* ways to do it.\n",
    "\n",
    "Fortunately, binary non-numerical data is an an easy special case (0 or 1 values)\n",
    "\n",
    "In the Titanic example, all our non-numerical data will be binary.\n",
    "\n",
    "We will revisit non-binary non-numerical features later, and the math of Logistic Regression in the Training Models module."
   ]
  },
  {
   "cell_type": "markdown",
   "metadata": {
    "slideshow": {
     "slide_type": "slide"
    }
   },
   "source": [
    "**Aside:** What does the Titanic have to do with Finance or Risk ?\n",
    "- Defaults (Survival probability of a corporation)\n",
    "    - Credit risk\n",
    "- Mortgage pre-payment"
   ]
  },
  {
   "cell_type": "markdown",
   "metadata": {
    "slideshow": {
     "slide_type": "slide"
    }
   },
   "source": [
    "## Performance measure\n",
    "\n",
    "Our performance measure will be **accuracy**, the fraction of correct predictions.\n",
    "\n",
    "\n",
    "$$\n",
    "\\textrm{Accuracy} = \\frac{\\textrm{number of correct predictions}}{\\textrm{number of predictions} }\n",
    "$$\n",
    "\n",
    "There are several drawbacks with this definition, which we will address later.\n",
    "\n",
    "But let's start with it for now."
   ]
  },
  {
   "cell_type": "markdown",
   "metadata": {
    "slideshow": {
     "slide_type": "subslide"
    }
   },
   "source": [
    "In pictures:\n",
    "$$\n",
    "\\begin{array}{lll}\n",
    "\\\\\n",
    "           & \\textbf{P} &  \\textbf{N} \\\\\n",
    "\\textbf{P} & TP         & FP \\\\\n",
    "\\textbf{N} & FN         & TN \\\\\n",
    "\\end{array}\n",
    "$$\n",
    "\n",
    "So\n",
    "\n",
    "$$\\textrm{Accuracy} =  { \\text{TP} + \\text{TN} \\over  \\text{TP} + \\text{FP} + \\text{TN} + \\text{FN} } $$"
   ]
  },
  {
   "cell_type": "markdown",
   "metadata": {
    "slideshow": {
     "slide_type": "slide"
    }
   },
   "source": [
    "## The Data\n",
    "\n",
    "### Get the data\n",
    "The data comes in two files\n",
    "- train\n",
    "- test\n",
    "\n",
    "The \"Survival\" column is ...\n"
   ]
  },
  {
   "cell_type": "markdown",
   "metadata": {
    "slideshow": {
     "slide_type": "slide"
    }
   },
   "source": [
    "### Initial Data Exploration"
   ]
  },
  {
   "cell_type": "code",
   "execution_count": 2,
   "metadata": {
    "slideshow": {
     "slide_type": "subslide"
    }
   },
   "outputs": [],
   "source": [
    "# Standard imports\n",
    "import pandas as pd\n",
    "import numpy as np\n",
    "import matplotlib.pyplot as plt\n",
    "\n",
    "# Common imports\n",
    "import os\n",
    "\n",
    "# Sklearn imports\n",
    "\n",
    "TITANIC_PATH = os.path.join(\"./external/jack-dies\", \"data\")\n",
    "\n",
    "train_data = pd.read_csv( os.path.join(TITANIC_PATH, \"train.csv\") )\n",
    "test_data  = pd.read_csv( os.path.join(TITANIC_PATH, \"test.csv\")  )\n"
   ]
  },
  {
   "cell_type": "markdown",
   "metadata": {
    "slideshow": {
     "slide_type": "slide"
    }
   },
   "source": [
    "#### First look\n",
    "\n",
    "Let's examine the first few records to get a feel for the shape of the data."
   ]
  },
  {
   "cell_type": "code",
   "execution_count": 3,
   "metadata": {
    "slideshow": {
     "slide_type": "subslide"
    }
   },
   "outputs": [
    {
     "data": {
      "text/plain": [
       "Index(['PassengerId', 'Survived', 'Pclass', 'Name', 'Sex', 'Age', 'SibSp',\n",
       "       'Parch', 'Ticket', 'Fare', 'Cabin', 'Embarked'],\n",
       "      dtype='object')"
      ]
     },
     "execution_count": 3,
     "metadata": {},
     "output_type": "execute_result"
    },
    {
     "data": {
      "text/html": [
       "<div>\n",
       "<style scoped>\n",
       "    .dataframe tbody tr th:only-of-type {\n",
       "        vertical-align: middle;\n",
       "    }\n",
       "\n",
       "    .dataframe tbody tr th {\n",
       "        vertical-align: top;\n",
       "    }\n",
       "\n",
       "    .dataframe thead th {\n",
       "        text-align: right;\n",
       "    }\n",
       "</style>\n",
       "<table border=\"1\" class=\"dataframe\">\n",
       "  <thead>\n",
       "    <tr style=\"text-align: right;\">\n",
       "      <th></th>\n",
       "      <th>PassengerId</th>\n",
       "      <th>Survived</th>\n",
       "      <th>Pclass</th>\n",
       "      <th>Name</th>\n",
       "      <th>Sex</th>\n",
       "      <th>Age</th>\n",
       "      <th>SibSp</th>\n",
       "      <th>Parch</th>\n",
       "      <th>Ticket</th>\n",
       "      <th>Fare</th>\n",
       "      <th>Cabin</th>\n",
       "      <th>Embarked</th>\n",
       "    </tr>\n",
       "  </thead>\n",
       "  <tbody>\n",
       "    <tr>\n",
       "      <th>0</th>\n",
       "      <td>1</td>\n",
       "      <td>0</td>\n",
       "      <td>3</td>\n",
       "      <td>Braund, Mr. Owen Harris</td>\n",
       "      <td>male</td>\n",
       "      <td>22.0</td>\n",
       "      <td>1</td>\n",
       "      <td>0</td>\n",
       "      <td>A/5 21171</td>\n",
       "      <td>7.2500</td>\n",
       "      <td>NaN</td>\n",
       "      <td>S</td>\n",
       "    </tr>\n",
       "    <tr>\n",
       "      <th>1</th>\n",
       "      <td>2</td>\n",
       "      <td>1</td>\n",
       "      <td>1</td>\n",
       "      <td>Cumings, Mrs. John Bradley (Florence Briggs Th...</td>\n",
       "      <td>female</td>\n",
       "      <td>38.0</td>\n",
       "      <td>1</td>\n",
       "      <td>0</td>\n",
       "      <td>PC 17599</td>\n",
       "      <td>71.2833</td>\n",
       "      <td>C85</td>\n",
       "      <td>C</td>\n",
       "    </tr>\n",
       "    <tr>\n",
       "      <th>2</th>\n",
       "      <td>3</td>\n",
       "      <td>1</td>\n",
       "      <td>3</td>\n",
       "      <td>Heikkinen, Miss. Laina</td>\n",
       "      <td>female</td>\n",
       "      <td>26.0</td>\n",
       "      <td>0</td>\n",
       "      <td>0</td>\n",
       "      <td>STON/O2. 3101282</td>\n",
       "      <td>7.9250</td>\n",
       "      <td>NaN</td>\n",
       "      <td>S</td>\n",
       "    </tr>\n",
       "    <tr>\n",
       "      <th>3</th>\n",
       "      <td>4</td>\n",
       "      <td>1</td>\n",
       "      <td>1</td>\n",
       "      <td>Futrelle, Mrs. Jacques Heath (Lily May Peel)</td>\n",
       "      <td>female</td>\n",
       "      <td>35.0</td>\n",
       "      <td>1</td>\n",
       "      <td>0</td>\n",
       "      <td>113803</td>\n",
       "      <td>53.1000</td>\n",
       "      <td>C123</td>\n",
       "      <td>S</td>\n",
       "    </tr>\n",
       "    <tr>\n",
       "      <th>4</th>\n",
       "      <td>5</td>\n",
       "      <td>0</td>\n",
       "      <td>3</td>\n",
       "      <td>Allen, Mr. William Henry</td>\n",
       "      <td>male</td>\n",
       "      <td>35.0</td>\n",
       "      <td>0</td>\n",
       "      <td>0</td>\n",
       "      <td>373450</td>\n",
       "      <td>8.0500</td>\n",
       "      <td>NaN</td>\n",
       "      <td>S</td>\n",
       "    </tr>\n",
       "  </tbody>\n",
       "</table>\n",
       "</div>"
      ],
      "text/plain": [
       "   PassengerId  Survived  Pclass  \\\n",
       "0            1         0       3   \n",
       "1            2         1       1   \n",
       "2            3         1       3   \n",
       "3            4         1       1   \n",
       "4            5         0       3   \n",
       "\n",
       "                                                Name     Sex   Age  SibSp  \\\n",
       "0                            Braund, Mr. Owen Harris    male  22.0      1   \n",
       "1  Cumings, Mrs. John Bradley (Florence Briggs Th...  female  38.0      1   \n",
       "2                             Heikkinen, Miss. Laina  female  26.0      0   \n",
       "3       Futrelle, Mrs. Jacques Heath (Lily May Peel)  female  35.0      1   \n",
       "4                           Allen, Mr. William Henry    male  35.0      0   \n",
       "\n",
       "   Parch            Ticket     Fare Cabin Embarked  \n",
       "0      0         A/5 21171   7.2500   NaN        S  \n",
       "1      0          PC 17599  71.2833   C85        C  \n",
       "2      0  STON/O2. 3101282   7.9250   NaN        S  \n",
       "3      0            113803  53.1000  C123        S  \n",
       "4      0            373450   8.0500   NaN        S  "
      ]
     },
     "execution_count": 3,
     "metadata": {},
     "output_type": "execute_result"
    }
   ],
   "source": [
    "train_data.columns\n",
    "train_data.head()"
   ]
  },
  {
   "cell_type": "markdown",
   "metadata": {
    "slideshow": {
     "slide_type": "subslide"
    }
   },
   "source": [
    "The attributes have the following meaning:\n",
    "* **Survived**: that's the target, 0 means the passenger did not survive, while 1 means he/she survived.\n",
    "* **Pclass**: passenger class.\n",
    "* **Name**, **Sex**, **Age**: self-explanatory\n",
    "* **SibSp**: how many siblings & spouses of the passenger aboard the Titanic.\n",
    "* **Parch**: how many children & parents of the passenger aboard the Titanic.\n",
    "* **Ticket**: ticket id\n",
    "* **Fare**: price paid (in pounds)\n",
    "* **Cabin**: passenger's cabin number\n",
    "* **Embarked**: where the passenger embarked the Titanic"
   ]
  },
  {
   "cell_type": "markdown",
   "metadata": {
    "slideshow": {
     "slide_type": "slide"
    }
   },
   "source": [
    "How many observation are there ?\n"
   ]
  },
  {
   "cell_type": "code",
   "execution_count": 4,
   "metadata": {
    "slideshow": {
     "slide_type": "subslide"
    }
   },
   "outputs": [
    {
     "name": "stdout",
     "output_type": "stream",
     "text": [
      "There are 891 observations and 12 attributes (including the target)\n"
     ]
    }
   ],
   "source": [
    "(num_obs, num_features) = train_data.shape\n",
    "print(\"There are {nr} observations and {nf} attributes (including the target)\".format(nr=num_obs, nf=num_features) )"
   ]
  },
  {
   "cell_type": "markdown",
   "metadata": {
    "slideshow": {
     "slide_type": "subslide"
    }
   },
   "source": [
    "Let's try to understand the types of the attributes"
   ]
  },
  {
   "cell_type": "code",
   "execution_count": 5,
   "metadata": {
    "slideshow": {
     "slide_type": "subslide"
    }
   },
   "outputs": [
    {
     "name": "stdout",
     "output_type": "stream",
     "text": [
      "<class 'pandas.core.frame.DataFrame'>\n",
      "RangeIndex: 891 entries, 0 to 890\n",
      "Data columns (total 12 columns):\n",
      "PassengerId    891 non-null int64\n",
      "Survived       891 non-null int64\n",
      "Pclass         891 non-null int64\n",
      "Name           891 non-null object\n",
      "Sex            891 non-null object\n",
      "Age            714 non-null float64\n",
      "SibSp          891 non-null int64\n",
      "Parch          891 non-null int64\n",
      "Ticket         891 non-null object\n",
      "Fare           891 non-null float64\n",
      "Cabin          204 non-null object\n",
      "Embarked       889 non-null object\n",
      "dtypes: float64(2), int64(5), object(5)\n",
      "memory usage: 83.6+ KB\n"
     ]
    }
   ],
   "source": [
    "train_data.info()"
   ]
  },
  {
   "cell_type": "markdown",
   "metadata": {
    "slideshow": {
     "slide_type": "subslide"
    }
   },
   "source": [
    "**Non-numeric attributes**\n",
    "\n",
    "We can see the non-numeric attributes (type is \"object\") are:\n",
    "- Name\n",
    "- Sex\n",
    "- Cabin\n",
    "- Embarked"
   ]
  },
  {
   "cell_type": "markdown",
   "metadata": {
    "slideshow": {
     "slide_type": "slide"
    }
   },
   "source": [
    "**Data issues: missing attributes**\n",
    "\n",
    "We can also see that we have some missing data issues to deal with.\n",
    "\n",
    "Any attribute with less than num_obs values has observations with a missing value in the attribute\n",
    "- Age\n",
    "- Cabin\n",
    "- Embarked\n"
   ]
  },
  {
   "cell_type": "markdown",
   "metadata": {
    "slideshow": {
     "slide_type": "slide"
    }
   },
   "source": [
    "Let's get a sense of the distribution of each attribute\n",
    "\n",
    "(n.b., `describe` operates *only* on the numeric attributes)"
   ]
  },
  {
   "cell_type": "code",
   "execution_count": 6,
   "metadata": {
    "slideshow": {
     "slide_type": "subslide"
    }
   },
   "outputs": [
    {
     "data": {
      "text/html": [
       "<div>\n",
       "<style scoped>\n",
       "    .dataframe tbody tr th:only-of-type {\n",
       "        vertical-align: middle;\n",
       "    }\n",
       "\n",
       "    .dataframe tbody tr th {\n",
       "        vertical-align: top;\n",
       "    }\n",
       "\n",
       "    .dataframe thead th {\n",
       "        text-align: right;\n",
       "    }\n",
       "</style>\n",
       "<table border=\"1\" class=\"dataframe\">\n",
       "  <thead>\n",
       "    <tr style=\"text-align: right;\">\n",
       "      <th></th>\n",
       "      <th>PassengerId</th>\n",
       "      <th>Survived</th>\n",
       "      <th>Pclass</th>\n",
       "      <th>Age</th>\n",
       "      <th>SibSp</th>\n",
       "      <th>Parch</th>\n",
       "      <th>Fare</th>\n",
       "    </tr>\n",
       "  </thead>\n",
       "  <tbody>\n",
       "    <tr>\n",
       "      <th>count</th>\n",
       "      <td>891.000000</td>\n",
       "      <td>891.000000</td>\n",
       "      <td>891.000000</td>\n",
       "      <td>714.000000</td>\n",
       "      <td>891.000000</td>\n",
       "      <td>891.000000</td>\n",
       "      <td>891.000000</td>\n",
       "    </tr>\n",
       "    <tr>\n",
       "      <th>mean</th>\n",
       "      <td>446.000000</td>\n",
       "      <td>0.383838</td>\n",
       "      <td>2.308642</td>\n",
       "      <td>29.699118</td>\n",
       "      <td>0.523008</td>\n",
       "      <td>0.381594</td>\n",
       "      <td>32.204208</td>\n",
       "    </tr>\n",
       "    <tr>\n",
       "      <th>std</th>\n",
       "      <td>257.353842</td>\n",
       "      <td>0.486592</td>\n",
       "      <td>0.836071</td>\n",
       "      <td>14.526497</td>\n",
       "      <td>1.102743</td>\n",
       "      <td>0.806057</td>\n",
       "      <td>49.693429</td>\n",
       "    </tr>\n",
       "    <tr>\n",
       "      <th>min</th>\n",
       "      <td>1.000000</td>\n",
       "      <td>0.000000</td>\n",
       "      <td>1.000000</td>\n",
       "      <td>0.420000</td>\n",
       "      <td>0.000000</td>\n",
       "      <td>0.000000</td>\n",
       "      <td>0.000000</td>\n",
       "    </tr>\n",
       "    <tr>\n",
       "      <th>25%</th>\n",
       "      <td>223.500000</td>\n",
       "      <td>0.000000</td>\n",
       "      <td>2.000000</td>\n",
       "      <td>20.125000</td>\n",
       "      <td>0.000000</td>\n",
       "      <td>0.000000</td>\n",
       "      <td>7.910400</td>\n",
       "    </tr>\n",
       "    <tr>\n",
       "      <th>50%</th>\n",
       "      <td>446.000000</td>\n",
       "      <td>0.000000</td>\n",
       "      <td>3.000000</td>\n",
       "      <td>28.000000</td>\n",
       "      <td>0.000000</td>\n",
       "      <td>0.000000</td>\n",
       "      <td>14.454200</td>\n",
       "    </tr>\n",
       "    <tr>\n",
       "      <th>75%</th>\n",
       "      <td>668.500000</td>\n",
       "      <td>1.000000</td>\n",
       "      <td>3.000000</td>\n",
       "      <td>38.000000</td>\n",
       "      <td>1.000000</td>\n",
       "      <td>0.000000</td>\n",
       "      <td>31.000000</td>\n",
       "    </tr>\n",
       "    <tr>\n",
       "      <th>max</th>\n",
       "      <td>891.000000</td>\n",
       "      <td>1.000000</td>\n",
       "      <td>3.000000</td>\n",
       "      <td>80.000000</td>\n",
       "      <td>8.000000</td>\n",
       "      <td>6.000000</td>\n",
       "      <td>512.329200</td>\n",
       "    </tr>\n",
       "  </tbody>\n",
       "</table>\n",
       "</div>"
      ],
      "text/plain": [
       "       PassengerId    Survived      Pclass         Age       SibSp  \\\n",
       "count   891.000000  891.000000  891.000000  714.000000  891.000000   \n",
       "mean    446.000000    0.383838    2.308642   29.699118    0.523008   \n",
       "std     257.353842    0.486592    0.836071   14.526497    1.102743   \n",
       "min       1.000000    0.000000    1.000000    0.420000    0.000000   \n",
       "25%     223.500000    0.000000    2.000000   20.125000    0.000000   \n",
       "50%     446.000000    0.000000    3.000000   28.000000    0.000000   \n",
       "75%     668.500000    1.000000    3.000000   38.000000    1.000000   \n",
       "max     891.000000    1.000000    3.000000   80.000000    8.000000   \n",
       "\n",
       "            Parch        Fare  \n",
       "count  891.000000  891.000000  \n",
       "mean     0.381594   32.204208  \n",
       "std      0.806057   49.693429  \n",
       "min      0.000000    0.000000  \n",
       "25%      0.000000    7.910400  \n",
       "50%      0.000000   14.454200  \n",
       "75%      0.000000   31.000000  \n",
       "max      6.000000  512.329200  "
      ]
     },
     "execution_count": 6,
     "metadata": {},
     "output_type": "execute_result"
    }
   ],
   "source": [
    "train_data.describe()"
   ]
  },
  {
   "cell_type": "markdown",
   "metadata": {
    "slideshow": {
     "slide_type": "subslide"
    }
   },
   "source": [
    "- You can also observe the attributes with missing values by looking at the \"count\"\n",
    "- You can clearly see that Survived is a binary, numerical variable\n",
    "- Only 38 % of the passengers survived (\"mean\")"
   ]
  },
  {
   "cell_type": "code",
   "execution_count": 7,
   "metadata": {
    "slideshow": {
     "slide_type": "slide"
    }
   },
   "outputs": [
    {
     "data": {
      "text/plain": [
       "0    549\n",
       "1    342\n",
       "Name: Survived, dtype: int64"
      ]
     },
     "execution_count": 7,
     "metadata": {},
     "output_type": "execute_result"
    }
   ],
   "source": [
    "train_data[\"Survived\"].value_counts()"
   ]
  },
  {
   "cell_type": "markdown",
   "metadata": {
    "slideshow": {
     "slide_type": "slide"
    }
   },
   "source": [
    "##### Graphical exporation"
   ]
  },
  {
   "cell_type": "markdown",
   "metadata": {
    "slideshow": {
     "slide_type": "notes"
    }
   },
   "source": [
    "- Wheter to plot P(Surive|X) or P(X|Survive)\n",
    "    - related to Naive Bayes\n",
    "        - P(H|E) = P(E|H) P(H)/P(E)\n",
    "        - H == \"Passenger Survived\"\n",
    "        - E == \"Passenger Sex == Male\"\n",
    "        - P(Survived| Sex==Male) = P(Sex==Male | Survived) * P(Survived)/P(Male)\n",
    "            - P(Sex==Male | Survived)  = P(Sex== Male & Survived)/P(Survived)\n",
    "                - so RHS ration is prob concitional on feature divied by unconditional prob\n",
    "- Relate to baseline estimate\n",
    "    - if P(Surive|Male) == P(Survive|not Male) == P(Survive(, the feature Male is not predictive\n",
    "        - only predictive in P(Survive|Male) >> P(Survive)\n",
    "        - equivalent: only predictive if P(Survive|Male) <> P(Surive|Not Male) ??\n",
    "            - so looking across conditional plots P(Surive|Male) and P(Surive|not Male) tells you if Male is predictive"
   ]
  },
  {
   "cell_type": "markdown",
   "metadata": {
    "slideshow": {
     "slide_type": "slide"
    }
   },
   "source": [
    "**Distribution of each attribute**"
   ]
  },
  {
   "cell_type": "markdown",
   "metadata": {
    "slideshow": {
     "slide_type": "notes"
    }
   },
   "source": [
    "Let's start by looking at the (unconditional) distribution of the target and some attributes\n",
    "\n",
    "First let's look at them normalized (i.e, as fractions or probabilities)"
   ]
  },
  {
   "cell_type": "code",
   "execution_count": 8,
   "metadata": {
    "slideshow": {
     "slide_type": "subslide"
    }
   },
   "outputs": [],
   "source": [
    "def plot_attrs(df, attrs, attr_type=\"Cat\", normalize=True, plot=True):\n",
    "    \"\"\"\n",
    "    Plot/print the distribution of one or more attributes of DataFrame\n",
    "    \n",
    "    Parameters\n",
    "    ----------\n",
    "    df: DataFrame\n",
    "    attrs: List of attributes (i.e., column names)\n",
    "    \n",
    "    Optional\n",
    "    --------\n",
    "    attr_type: String; \n",
    "      \"Cat\" to indicate that the attributes in attrs are Categorical (so use value_counts)\n",
    "      Otherwise: the attributes must be numeric columns (so use histogram)\n",
    "    \"\"\"\n",
    "    num_attrs = len(attrs)\n",
    "    ncols=2\n",
    "    nrows = max(1,round(num_attrs/ncols))\n",
    "  \n",
    "    fig, axes = plt.subplots(nrows=nrows, ncols=ncols, figsize=(ncols*4, num_attrs*2))\n",
    "    \n",
    "    # Make sure axes is an array (special case when num_attrs==1)\n",
    "    if num_attrs == 1:\n",
    "        axes =np.array( [ axes ])\n",
    "        \n",
    "    for i, attr in enumerate(attrs):\n",
    "        if attr_type == \"Cat\":\n",
    "            alpha_bar_chart = 0.55\n",
    "            plot_data = df.loc[:, attr ].value_counts(normalize=normalize).sort_index()\n",
    "            \n",
    "            args = { \"kind\":\"bar\" } #, \"alpha\":alpha_bar_chart}\n",
    "            kind=\"bar\"\n",
    "        else:\n",
    "            plot_data = df.loc[:, [attr] ]\n",
    "            \n",
    "            args = { \"kind\":\"hist\"}\n",
    "            if normalize:\n",
    "                args[\"density\"] = True\n",
    "            kind=\"hist\"\n",
    "            \n",
    "        if plot:\n",
    "            _ = plot_data.plot(title=attr, ax=axes.flatten()[i], **args)\n",
    "        else:\n",
    "            print(attr + \"\\n\")\n",
    "            print(plot_data)\n",
    "            print(\"\\n\")"
   ]
  },
  {
   "cell_type": "markdown",
   "metadata": {
    "slideshow": {
     "slide_type": "notes"
    }
   },
   "source": [
    "Next, let's look at them un-normalized, or absolute count"
   ]
  },
  {
   "cell_type": "code",
   "execution_count": 9,
   "metadata": {
    "slideshow": {
     "slide_type": "slide"
    }
   },
   "outputs": [
    {
     "data": {
      "image/png": "[encoded data removed]",
      "text/plain": [
       "<Figure size 576x576 with 4 Axes>"
      ]
     },
     "metadata": {
      "needs_background": "light"
     },
     "output_type": "display_data"
    },
    {
     "data": {
      "image/png": "[encoded data removed]",
      "text/plain": [
       "<Figure size 576x144 with 2 Axes>"
      ]
     },
     "metadata": {
      "needs_background": "light"
     },
     "output_type": "display_data"
    }
   ],
   "source": [
    "plot_attrs(train_data, [ \"Survived\", \"Sex\", \"Pclass\", \"Embarked\" ], attr_type=\"Cat\", plot=True)\n",
    "plot_attrs(train_data, [ \"Age\" ], attr_type=\"Num\")"
   ]
  },
  {
   "cell_type": "code",
   "execution_count": 10,
   "metadata": {
    "slideshow": {
     "slide_type": "slide"
    }
   },
   "outputs": [
    {
     "data": {
      "image/png": "[encoded data removed]",
      "text/plain": [
       "<Figure size 576x576 with 4 Axes>"
      ]
     },
     "metadata": {
      "needs_background": "light"
     },
     "output_type": "display_data"
    }
   ],
   "source": [
    "plot_attrs(train_data, [ \"Survived\", \"Sex\", \"Pclass\", \"Embarked\" ], attr_type=\"Cat\", plot=True, normalize=False\n",
    "          )"
   ]
  },
  {
   "cell_type": "markdown",
   "metadata": {
    "slideshow": {
     "slide_type": "slide"
    }
   },
   "source": [
    "Not sure how to interpret \"Cabin\".  Maybe if we had a map of the ship we could translate into a location.\n",
    "\n",
    "Let's just omit this attribute for now."
   ]
  },
  {
   "cell_type": "markdown",
   "metadata": {
    "slideshow": {
     "slide_type": "subslide"
    }
   },
   "source": [
    "If you are a diligent Data Scientist you can find this image, which is revealing\n",
    "- Worst cabins (pink, Third class) were dispersed between front and back\n",
    "- Best cabins (white, First class) were dispersed between above/below deck\n",
    "- Mid cabins(yellow, Second Class) were *not* near point of front\n",
    "![Titanic cabins](images/Titanic_cabin_layout.jpg)"
   ]
  },
  {
   "cell_type": "markdown",
   "metadata": {
    "slideshow": {
     "slide_type": "slide"
    }
   },
   "source": [
    "The Embarked attribute tells us where the passenger embarked: C=Cherbourg, Q=Queenstown, S=Southampton.\n",
    "\n",
    "*Questions* that might help us with feature engineering:\n",
    "- why might cabin location matter ?\n",
    "- why might point of embarcation matter ?"
   ]
  },
  {
   "cell_type": "code",
   "execution_count": 11,
   "metadata": {
    "slideshow": {
     "slide_type": "slide"
    }
   },
   "outputs": [],
   "source": [
    "\n",
    "\n",
    "def plot_cond( df, var, conds, ax, normalize=True):\n",
    "    \"\"\"\n",
    "    Plot probability of a value in column var of DataFrame df, conditional on conditions expressed in conds\n",
    "    \n",
    "    Parameters\n",
    "    ----------\n",
    "    df: DataFrame\n",
    "    var: String.  Name of column in df whose density we will plot\n",
    "    conds: Dictionary\n",
    "    - keys are Strings, which are names of columns in df\n",
    "    - values are values that could be compared with column at the key\n",
    "    \n",
    "    \n",
    "    \"\"\"\n",
    "    plot_data = df.copy()\n",
    "    title_array = []\n",
    "    \n",
    "    for cond, val in conds.items():\n",
    "        title_array.append( \"{c}={v}\".format(c=cond, v=val))\n",
    "        plot_data = plot_data.loc[ plot_data.loc[:, cond] == val, : ]\n",
    "        \n",
    "        args = { \"kind\": \"bar\"}\n",
    "        \n",
    "    \n",
    "    plot_data = plot_data.loc[:, var ]\n",
    "    \n",
    "    title = \", \".join(title_array)\n",
    "    title = \"Prob({v} | {t})\".format(v=var, t=title)\n",
    "    plot_data.value_counts(normalize=normalize).sort_index().plot(title=title, ax=ax, **args)\n",
    "    \n",
    "def plot_conds(df, specs):\n",
    "    \"\"\"\n",
    "    Print multiple conditional plots using plot_cond\n",
    "    \n",
    "    Parameters\n",
    "    -----------\n",
    "    df: DataFrame\n",
    "    specs: List. Each element of the list is a tuple (var, conds)\n",
    "    -  each element of the list generates a call to plot_cond(df, var, conds)\n",
    "    \"\"\"\n",
    "    num_specs = len(specs)\n",
    "    ncols=3\n",
    "    nrows = max(1,round(.4999 + num_specs/ncols))\n",
    "  \n",
    "    fig, axes = plt.subplots(nrows=nrows, ncols=ncols, figsize=(ncols*4, num_specs*1.5))\n",
    "    \n",
    "    # Make sure axes is an array (special case when num_attrs==1)\n",
    "    if num_specs == 1:\n",
    "        axes =np.array( [ axes ])\n",
    "        \n",
    "    for i, spec in enumerate(specs):\n",
    "        if spec is None:\n",
    "            continue\n",
    "        (var, conds) = spec\n",
    "        plot_cond(df, var, conds, ax=axes.flatten()[i])"
   ]
  },
  {
   "cell_type": "markdown",
   "metadata": {
    "slideshow": {
     "slide_type": "subslide"
    }
   },
   "source": [
    "##### Conditional survival probability (condition on single attribute)"
   ]
  },
  {
   "cell_type": "code",
   "execution_count": 12,
   "metadata": {
    "slideshow": {
     "slide_type": "subslide"
    }
   },
   "outputs": [
    {
     "data": {
      "image/png": "[encoded data removed]",
      "text/plain": [
       "<Figure size 864x972 with 9 Axes>"
      ]
     },
     "metadata": {
      "needs_background": "light"
     },
     "output_type": "display_data"
    }
   ],
   "source": [
    "plot_conds(train_data, [ (\"Survived\", { \"Sex\": \"female\"}),\n",
    "                         (\"Survived\", { \"Sex\": \"male\"}),\n",
    "                         None,\n",
    "                         (\"Survived\", { \"Pclass\": 1}),\n",
    "                         (\"Survived\", { \"Pclass\": 2}),\n",
    "                         (\"Survived\", { \"Pclass\": 3}),\n",
    "                        \n",
    "                         (\"Survived\", { \"Embarked\":\"C\"}),\n",
    "                         (\"Survived\", { \"Embarked\":\"Q\"}),\n",
    "                         (\"Survived\", { \"Embarked\":\"S\"}),\n",
    "                       ]\n",
    "          )\n"
   ]
  },
  {
   "cell_type": "markdown",
   "metadata": {
    "slideshow": {
     "slide_type": "slide"
    }
   },
   "source": [
    "Interesting !\n",
    "- Women are 4 times as likely to survive\n",
    "- NOT being in the lowest Class doubles or triples your survival probability\n",
    "- Embarking at Cherbourg increased your probabiity or surviving\n",
    "    - WHY ? Is there a correlation between Class and point of embarcation maybe ?\n",
    "    \n",
    "Preview: There may also be lessons here for create substitutes for missing data"
   ]
  },
  {
   "cell_type": "markdown",
   "metadata": {
    "slideshow": {
     "slide_type": "slide"
    }
   },
   "source": [
    "##### Conditional survival probability (condition on multiple attributes)"
   ]
  },
  {
   "cell_type": "code",
   "execution_count": 13,
   "metadata": {
    "slideshow": {
     "slide_type": "subslide"
    }
   },
   "outputs": [
    {
     "data": {
      "image/png": "[encoded data removed]",
      "text/plain": [
       "<Figure size 864x648 with 6 Axes>"
      ]
     },
     "metadata": {
      "needs_background": "light"
     },
     "output_type": "display_data"
    }
   ],
   "source": [
    "plot_conds(train_data, [\n",
    "                         (\"Survived\", { \"Sex\": \"female\", \"Pclass\": 1}),\n",
    "                         (\"Survived\", { \"Sex\": \"female\", \"Pclass\": 2}),\n",
    "                         (\"Survived\", { \"Sex\": \"female\", \"Pclass\": 3}),\n",
    "    \n",
    "                         (\"Survived\", { \"Sex\": \"male\", \"Pclass\": 1}),\n",
    "                         (\"Survived\", { \"Sex\": \"male\", \"Pclass\": 2}),\n",
    "                         (\"Survived\", { \"Sex\": \"male\", \"Pclass\": 3}),\n",
    "                       ])"
   ]
  },
  {
   "cell_type": "markdown",
   "metadata": {
    "slideshow": {
     "slide_type": "slide"
    }
   },
   "source": [
    "<div class=\"alert alert-block alert-info\">\n",
    "    <b>Aside</b>:   How does pd.groupby() work ?\n",
    "\n",
    "The Pandas Split-Apply-Combine pattern is very powerful\n",
    "- This is very SQL-like, for those who have used databases\n",
    "- Below is some simpler Pandas code to show exactly how it works"
   ]
  },
  {
   "cell_type": "code",
   "execution_count": 14,
   "metadata": {
    "slideshow": {
     "slide_type": "subslide"
    }
   },
   "outputs": [
    {
     "name": "stdout",
     "output_type": "stream",
     "text": [
      "male\t577\t0.1889\n",
      "female\t314\t0.7420\n"
     ]
    },
    {
     "data": {
      "text/html": [
       "<div>\n",
       "<style scoped>\n",
       "    .dataframe tbody tr th:only-of-type {\n",
       "        vertical-align: middle;\n",
       "    }\n",
       "\n",
       "    .dataframe tbody tr th {\n",
       "        vertical-align: top;\n",
       "    }\n",
       "\n",
       "    .dataframe thead th {\n",
       "        text-align: right;\n",
       "    }\n",
       "</style>\n",
       "<table border=\"1\" class=\"dataframe\">\n",
       "  <thead>\n",
       "    <tr style=\"text-align: right;\">\n",
       "      <th></th>\n",
       "      <th>mean</th>\n",
       "      <th>count</th>\n",
       "    </tr>\n",
       "    <tr>\n",
       "      <th>Sex</th>\n",
       "      <th></th>\n",
       "      <th></th>\n",
       "    </tr>\n",
       "  </thead>\n",
       "  <tbody>\n",
       "    <tr>\n",
       "      <th>female</th>\n",
       "      <td>0.742038</td>\n",
       "      <td>314</td>\n",
       "    </tr>\n",
       "    <tr>\n",
       "      <th>male</th>\n",
       "      <td>0.188908</td>\n",
       "      <td>577</td>\n",
       "    </tr>\n",
       "  </tbody>\n",
       "</table>\n",
       "</div>"
      ],
      "text/plain": [
       "            mean  count\n",
       "Sex                    \n",
       "female  0.742038    314\n",
       "male    0.188908    577"
      ]
     },
     "execution_count": 14,
     "metadata": {},
     "output_type": "execute_result"
    }
   ],
   "source": [
    "# Partition by the attribute \"Sex\"\n",
    "males   = train_data[ train_data[\"Sex\"] == \"male\"]\n",
    "females = train_data[ train_data[\"Sex\"] == \"female\"]\n",
    "\n",
    "# Aggregate within each group: count,mean.  n.b., only doing this for the \"Survived\" column\n",
    "count_males, count_females = males.shape[0], females.shape[0]\n",
    "survival_males, survival_females = males[\"Survived\"].mean(), females[\"Survived\"].mean()\n",
    "\n",
    "print( \"male\\t{c}\\t{m:0.4f}\".format(c=count_males, m=survival_males) )\n",
    "print( \"female\\t{c}\\t{m:0.4f}\".format(c=count_females, m=survival_females) )\n",
    "\n",
    "# Or, use the pd.groupby\n",
    "train_data.groupby(\"Sex\").agg([\"mean\", \"count\"])[\"Survived\"]\n"
   ]
  },
  {
   "cell_type": "markdown",
   "metadata": {
    "slideshow": {
     "slide_type": "slide"
    }
   },
   "source": [
    "### Test data\n",
    "\n",
    "The train/test split was done for us: it came as two separate files\n",
    "\n",
    "We might later choose to combine the two and do our own split (or better yet: multiple splits) but for now, we'll take what we'ere given"
   ]
  },
  {
   "cell_type": "markdown",
   "metadata": {
    "slideshow": {
     "slide_type": "slide"
    }
   },
   "source": [
    "## Prepare the data\n",
    "\n",
    "Our first model will use the following features\n",
    "- Pclass\n",
    "- Sex\n",
    "- Age\n",
    "- SibSp: passenger's number of \"same-level\" relatives (Sibling, Spouse)\n",
    "- Parch: passenger's number of \"different-level\" relatives (Parent, Child)\n",
    "- Fare"
   ]
  },
  {
   "cell_type": "markdown",
   "metadata": {
    "slideshow": {
     "slide_type": "subslide"
    }
   },
   "source": [
    "### Data cleaning\n",
    "\n",
    "Our initial data exploration revealed some attributes with missing data\n",
    "- Age\n",
    "- Cabin\n",
    "- Embarked\n",
    "\n",
    "We will address various strategies for dealing with missing data in the module on Data Transformations.\n",
    "\n",
    "For now, we will take a very simple (and naive) approach\n",
    "- for numeric attributes: use the median value\n",
    "- for non-numeric attributes: use the most frequent value"
   ]
  },
  {
   "cell_type": "markdown",
   "metadata": {
    "slideshow": {
     "slide_type": "slide"
    }
   },
   "source": [
    "### Data Tranformations"
   ]
  },
  {
   "cell_type": "markdown",
   "metadata": {
    "slideshow": {
     "slide_type": "subslide"
    }
   },
   "source": [
    "We will do minimal transformation for now (more to come in the module on Data Transformations)\n",
    "- deal with missing values\n",
    "- convert the categorical, binary attribute \"Sex\" to a number: 0:male, 1: female\n",
    "\n",
    "This is also very naive (and, technically wrong !  Ask me later !) but it will allow us to make our key points with minimum distraction."
   ]
  },
  {
   "cell_type": "markdown",
   "metadata": {
    "slideshow": {
     "slide_type": "subslide"
    }
   },
   "source": [
    "#### A sophisticated pipeline\n",
    "\n",
    "We introduced the <u>concept</u> of Transformation Pipelines in the previous lecture.  Key points\n",
    "- a pipeline is a sequence of transformations\n",
    "- the same transformations are applied to the Train and Test datasets\n",
    "    - but *separately* **not** together\n",
    "\n",
    "We also showed how sklearn implements the concept:\n",
    "- Pipeline transform Pandas DataFrame, not NumPy matrices !\n",
    "- One pipeline to transform numeric features\n",
    "- One pipeline to transform categorical features\n",
    "- A \"union\" pipeline to do both"
   ]
  },
  {
   "cell_type": "markdown",
   "metadata": {
    "slideshow": {
     "slide_type": "notes"
    }
   },
   "source": [
    "We will do a review of the complex pipeline we introduced in the previous lecture\n",
    "\n",
    "Again, the *concept* of pipeline (sequence of transformations) is independent of an API\n",
    "- don't get caught up on `sklearn`'s method, just absorb the concpets"
   ]
  },
  {
   "cell_type": "markdown",
   "metadata": {
    "slideshow": {
     "slide_type": "slide"
    }
   },
   "source": [
    "#### The numeric pipeline"
   ]
  },
  {
   "cell_type": "code",
   "execution_count": 15,
   "metadata": {
    "slideshow": {
     "slide_type": "subslide"
    }
   },
   "outputs": [],
   "source": [
    "from sklearn.base import BaseEstimator, TransformerMixin\n",
    "\n",
    "# A class to select numerical or categorical columns \n",
    "# since Scikit-Learn doesn't handle DataFrames yet\n",
    "class DataFrameSelector(BaseEstimator, TransformerMixin):\n",
    "    def __init__(self, attribute_names):\n",
    "        self.attribute_names = attribute_names\n",
    "    def fit(self, X, y=None):\n",
    "        return self\n",
    "    def transform(self, X):\n",
    "        return X[self.attribute_names]\n",
    "\n",
    "from sklearn.pipeline import Pipeline\n",
    "try:\n",
    "    from sklearn.impute import SimpleImputer # Scikit-Learn 0.20+\n",
    "except ImportError:\n",
    "    from sklearn.preprocessing import Imputer as SimpleImputer\n",
    "\n",
    "num_features = [\"Age\", \"SibSp\", \"Parch\", \"Fare\"]\n",
    "\n",
    "num_pipeline = Pipeline([\n",
    "        (\"select_numeric\", DataFrameSelector( num_features )),\n",
    "        (\"imputer\", SimpleImputer(strategy=\"median\")),\n",
    "    ])"
   ]
  },
  {
   "cell_type": "markdown",
   "metadata": {
    "slideshow": {
     "slide_type": "notes"
    }
   },
   "source": [
    "Let's see what the numeric pipleine produces"
   ]
  },
  {
   "cell_type": "code",
   "execution_count": 16,
   "metadata": {
    "slideshow": {
     "slide_type": "subslide"
    }
   },
   "outputs": [
    {
     "data": {
      "text/plain": [
       "array([[22.    ,  1.    ,  0.    ,  7.25  ],\n",
       "       [38.    ,  1.    ,  0.    , 71.2833],\n",
       "       [26.    ,  0.    ,  0.    ,  7.925 ],\n",
       "       ...,\n",
       "       [28.    ,  1.    ,  2.    , 23.45  ],\n",
       "       [26.    ,  0.    ,  0.    , 30.    ],\n",
       "       [32.    ,  0.    ,  0.    ,  7.75  ]])"
      ]
     },
     "execution_count": 16,
     "metadata": {},
     "output_type": "execute_result"
    }
   ],
   "source": [
    "num_pipeline.fit_transform(train_data)"
   ]
  },
  {
   "cell_type": "markdown",
   "metadata": {
    "slideshow": {
     "slide_type": "slide"
    }
   },
   "source": [
    "#### The non-numeric pipeline"
   ]
  },
  {
   "cell_type": "markdown",
   "metadata": {
    "slideshow": {
     "slide_type": "notes"
    }
   },
   "source": [
    "**WARNING**: I'm doing a little cheating in the non-numeric pipeline"
   ]
  },
  {
   "cell_type": "code",
   "execution_count": 17,
   "metadata": {
    "slideshow": {
     "slide_type": "subslide"
    }
   },
   "outputs": [],
   "source": [
    "# Inspired from stackoverflow.com/questions/25239958\n",
    "class MostFrequentImputer(BaseEstimator, TransformerMixin):\n",
    "    def fit(self, X, y=None):\n",
    "        self.most_frequent_ = pd.Series([X[c].value_counts().index[0] for c in X],\n",
    "                                        index=X.columns)\n",
    "        return self\n",
    "    def transform(self, X, y=None):\n",
    "        return X.fillna(self.most_frequent_)\n",
    "\n",
    "class SexToInt(BaseEstimator, TransformerMixin):\n",
    "    def fit(self, X, y=None):\n",
    "        return self\n",
    "    \n",
    "    def transform(self, X, y=None):\n",
    "        \"\"\"\n",
    "        I am really cheating here ! Am ignoring all columns except for \"Sex\"\n",
    "        \"\"\"\n",
    "        \n",
    "        # To see that I am cheating, look at the number of columns of X !\n",
    "        print(\"SexToInt:transform: Cheating alert!, X has {c} columns.\".format(c=X.shape[-1]) )\n",
    "        \n",
    "        sex = X[\"Sex\"]\n",
    "        X[\"Sex\"] = 0\n",
    "        X[ sex == \"female\" ] = 1\n",
    "        \n",
    "        return(X)\n",
    "\n",
    "cat_features = [\"Sex\", \"Pclass\" ]\n",
    "\n",
    "cat_pipeline = Pipeline([\n",
    "        (\"select_cat\", DataFrameSelector( cat_features )),\n",
    "        (\"imputer\", MostFrequentImputer()),\n",
    "        (\"sex_encoder\", SexToInt() ),\n",
    "    ])"
   ]
  },
  {
   "cell_type": "markdown",
   "metadata": {
    "slideshow": {
     "slide_type": "notes"
    }
   },
   "source": [
    "Let's see what the categorical pipeline produces"
   ]
  },
  {
   "cell_type": "code",
   "execution_count": 18,
   "metadata": {
    "slideshow": {
     "slide_type": "subslide"
    }
   },
   "outputs": [
    {
     "name": "stdout",
     "output_type": "stream",
     "text": [
      "SexToInt:transform: Cheating alert!, X has 2 columns.\n"
     ]
    },
    {
     "data": {
      "text/html": [
       "<div>\n",
       "<style scoped>\n",
       "    .dataframe tbody tr th:only-of-type {\n",
       "        vertical-align: middle;\n",
       "    }\n",
       "\n",
       "    .dataframe tbody tr th {\n",
       "        vertical-align: top;\n",
       "    }\n",
       "\n",
       "    .dataframe thead th {\n",
       "        text-align: right;\n",
       "    }\n",
       "</style>\n",
       "<table border=\"1\" class=\"dataframe\">\n",
       "  <thead>\n",
       "    <tr style=\"text-align: right;\">\n",
       "      <th></th>\n",
       "      <th>Sex</th>\n",
       "      <th>Pclass</th>\n",
       "    </tr>\n",
       "  </thead>\n",
       "  <tbody>\n",
       "    <tr>\n",
       "      <th>0</th>\n",
       "      <td>0</td>\n",
       "      <td>3</td>\n",
       "    </tr>\n",
       "    <tr>\n",
       "      <th>1</th>\n",
       "      <td>1</td>\n",
       "      <td>1</td>\n",
       "    </tr>\n",
       "    <tr>\n",
       "      <th>2</th>\n",
       "      <td>1</td>\n",
       "      <td>1</td>\n",
       "    </tr>\n",
       "    <tr>\n",
       "      <th>3</th>\n",
       "      <td>1</td>\n",
       "      <td>1</td>\n",
       "    </tr>\n",
       "    <tr>\n",
       "      <th>4</th>\n",
       "      <td>0</td>\n",
       "      <td>3</td>\n",
       "    </tr>\n",
       "  </tbody>\n",
       "</table>\n",
       "</div>"
      ],
      "text/plain": [
       "   Sex  Pclass\n",
       "0    0       3\n",
       "1    1       1\n",
       "2    1       1\n",
       "3    1       1\n",
       "4    0       3"
      ]
     },
     "execution_count": 18,
     "metadata": {},
     "output_type": "execute_result"
    }
   ],
   "source": [
    "cat_pipeline.fit_transform(train_data).head()"
   ]
  },
  {
   "cell_type": "markdown",
   "metadata": {
    "slideshow": {
     "slide_type": "notes"
    }
   },
   "source": [
    "`FeatureUnion` glues together the Numeric and Categorical transformations along column dimension"
   ]
  },
  {
   "cell_type": "markdown",
   "metadata": {
    "slideshow": {
     "slide_type": "slide"
    }
   },
   "source": [
    "#### The Union pipeline: both numeric and non-numeric pipelines together"
   ]
  },
  {
   "cell_type": "code",
   "execution_count": 19,
   "metadata": {
    "slideshow": {
     "slide_type": "subslide"
    }
   },
   "outputs": [],
   "source": [
    "from sklearn.pipeline import FeatureUnion\n",
    "preprocess_pipeline = FeatureUnion(transformer_list=[\n",
    "        (\"num_pipeline\", num_pipeline),\n",
    "        (\"cat_pipeline\", cat_pipeline),\n",
    "    ])"
   ]
  },
  {
   "cell_type": "markdown",
   "metadata": {
    "slideshow": {
     "slide_type": "subslide"
    }
   },
   "source": [
    "Let's look at the result of applying the `preprocess_pipeline`"
   ]
  },
  {
   "cell_type": "code",
   "execution_count": 20,
   "metadata": {
    "slideshow": {
     "slide_type": "subslide"
    }
   },
   "outputs": [
    {
     "name": "stdout",
     "output_type": "stream",
     "text": [
      "SexToInt:transform: Cheating alert!, X has 2 columns.\n"
     ]
    },
    {
     "data": {
      "text/plain": [
       "(891, 6)"
      ]
     },
     "execution_count": 20,
     "metadata": {},
     "output_type": "execute_result"
    },
    {
     "data": {
      "text/plain": [
       "array([[22.    ,  1.    ,  0.    ,  7.25  ,  0.    ,  3.    ],\n",
       "       [38.    ,  1.    ,  0.    , 71.2833,  1.    ,  1.    ],\n",
       "       [26.    ,  0.    ,  0.    ,  7.925 ,  1.    ,  1.    ],\n",
       "       ...,\n",
       "       [28.    ,  1.    ,  2.    , 23.45  ,  1.    ,  1.    ],\n",
       "       [26.    ,  0.    ,  0.    , 30.    ,  0.    ,  1.    ],\n",
       "       [32.    ,  0.    ,  0.    ,  7.75  ,  0.    ,  3.    ]])"
      ]
     },
     "execution_count": 20,
     "metadata": {},
     "output_type": "execute_result"
    },
    {
     "data": {
      "text/html": [
       "<div>\n",
       "<style scoped>\n",
       "    .dataframe tbody tr th:only-of-type {\n",
       "        vertical-align: middle;\n",
       "    }\n",
       "\n",
       "    .dataframe tbody tr th {\n",
       "        vertical-align: top;\n",
       "    }\n",
       "\n",
       "    .dataframe thead th {\n",
       "        text-align: right;\n",
       "    }\n",
       "</style>\n",
       "<table border=\"1\" class=\"dataframe\">\n",
       "  <thead>\n",
       "    <tr style=\"text-align: right;\">\n",
       "      <th></th>\n",
       "      <th>Age</th>\n",
       "      <th>SibSp</th>\n",
       "      <th>Parch</th>\n",
       "      <th>Fare</th>\n",
       "      <th>Sex</th>\n",
       "      <th>Pclass</th>\n",
       "    </tr>\n",
       "  </thead>\n",
       "  <tbody>\n",
       "    <tr>\n",
       "      <th>0</th>\n",
       "      <td>22.0</td>\n",
       "      <td>1</td>\n",
       "      <td>0</td>\n",
       "      <td>7.2500</td>\n",
       "      <td>male</td>\n",
       "      <td>3</td>\n",
       "    </tr>\n",
       "    <tr>\n",
       "      <th>1</th>\n",
       "      <td>38.0</td>\n",
       "      <td>1</td>\n",
       "      <td>0</td>\n",
       "      <td>71.2833</td>\n",
       "      <td>female</td>\n",
       "      <td>1</td>\n",
       "    </tr>\n",
       "    <tr>\n",
       "      <th>2</th>\n",
       "      <td>26.0</td>\n",
       "      <td>0</td>\n",
       "      <td>0</td>\n",
       "      <td>7.9250</td>\n",
       "      <td>female</td>\n",
       "      <td>3</td>\n",
       "    </tr>\n",
       "    <tr>\n",
       "      <th>3</th>\n",
       "      <td>35.0</td>\n",
       "      <td>1</td>\n",
       "      <td>0</td>\n",
       "      <td>53.1000</td>\n",
       "      <td>female</td>\n",
       "      <td>1</td>\n",
       "    </tr>\n",
       "    <tr>\n",
       "      <th>4</th>\n",
       "      <td>35.0</td>\n",
       "      <td>0</td>\n",
       "      <td>0</td>\n",
       "      <td>8.0500</td>\n",
       "      <td>male</td>\n",
       "      <td>3</td>\n",
       "    </tr>\n",
       "  </tbody>\n",
       "</table>\n",
       "</div>"
      ],
      "text/plain": [
       "    Age  SibSp  Parch     Fare     Sex  Pclass\n",
       "0  22.0      1      0   7.2500    male       3\n",
       "1  38.0      1      0  71.2833  female       1\n",
       "2  26.0      0      0   7.9250  female       3\n",
       "3  35.0      1      0  53.1000  female       1\n",
       "4  35.0      0      0   8.0500    male       3"
      ]
     },
     "execution_count": 20,
     "metadata": {},
     "output_type": "execute_result"
    }
   ],
   "source": [
    "X_train = preprocess_pipeline.fit_transform(train_data)\n",
    "\n",
    "X_train.shape\n",
    "X_train\n",
    "\n",
    "# X_train is now an ndarray, so really can't discern columns, but are in same order as in Feature Union\n",
    "# so first the num_features, then cat_features\n",
    "# Can verify this by looking at train_data\n",
    "all_features = num_features.copy()\n",
    "all_features.extend(cat_features)\n",
    "train_data.loc[:, all_features ] .head()"
   ]
  },
  {
   "cell_type": "markdown",
   "metadata": {
    "slideshow": {
     "slide_type": "slide"
    }
   },
   "source": [
    "## Select and Train the model\n",
    "\n",
    "OK, we have identified features and now want to predict Survival. \n",
    "\n",
    "How do we do it ?\n",
    "\n",
    "Remember that a Regression problem produces a continous output but our problem has a binary output.\n",
    "\n",
    "We can use a specialized form of Regression called Logistic Regression.  This produces a continous\n",
    "output in the range $[0,1]$, which we can interpret as a probability of survival.\n",
    "\n",
    "If the probability produced exceeds $0.5$, we'll predict \"Survive\"."
   ]
  },
  {
   "cell_type": "markdown",
   "metadata": {
    "slideshow": {
     "slide_type": "slide"
    }
   },
   "source": [
    "We will use the Linear regression equation to produce a \"score\" $s$ (where a higher score implies a higher probablility of Survival).  \n",
    "\n",
    "$$ s = \\Theta^T \\cdot x $$ \n",
    "This score will be converted into a probability using the *sigmoid* function\n",
    "\n",
    "$$\n",
    "\\sigma(s)  ={1 \\over { 1 + e^{-s}} }\n",
    "$$"
   ]
  },
  {
   "cell_type": "code",
   "execution_count": 21,
   "metadata": {
    "slideshow": {
     "slide_type": "subslide"
    }
   },
   "outputs": [
    {
     "data": {
      "image/png": "[encoded data removed]",
      "text/plain": [
       "<Figure size 432x288 with 1 Axes>"
      ]
     },
     "metadata": {
      "needs_background": "light"
     },
     "output_type": "display_data"
    }
   ],
   "source": [
    "s = np.linspace(-10,10, 50)\n",
    "sigma_s = 1/(1 + np.exp(- s))\n",
    "\n",
    "fig = plt.figure()\n",
    "ax  = fig.add_subplot(1,1,1)\n",
    "_ = ax.plot(s, sigma_s)"
   ]
  },
  {
   "cell_type": "markdown",
   "metadata": {
    "slideshow": {
     "slide_type": "subslide"
    }
   },
   "source": [
    "So our hypothesis is\n",
    "\n",
    "$$ h_\\theta(x) = \\sigma( s )$$ \n",
    "\n",
    "We will refer to \n",
    "\n",
    "$$ \\hat{p} = h_\\theta(x) = \\sigma(s)$$\n",
    "\n",
    "as the **probability** of surival\n",
    "and our prediction will be \n",
    "\n",
    "$$\n",
    "\\hat{y} = \n",
    "\\left\\{\n",
    "    {\n",
    "    \\begin{array}{lll}\n",
    "    0 & \\textrm{if } \\hat{p} < 0.5 \\\\\n",
    "    1 & \\textrm{if } \\hat{p} \\ge 0.5\n",
    "    \\end{array}\n",
    "    }\n",
    "\\right.\n",
    "$$"
   ]
  },
  {
   "cell_type": "markdown",
   "metadata": {
    "slideshow": {
     "slide_type": "slide"
    }
   },
   "source": [
    "### Relation between score $s$ and probability $\\hat{p}$\n",
    "Score \n",
    "$$s = \\Theta^T \\cdot x$$\n",
    "is related to the odds ratio \n",
    "$$\\frac{\\hat{p}}{1-\\hat{p}}$$"
   ]
  },
  {
   "cell_type": "markdown",
   "metadata": {
    "slideshow": {
     "slide_type": "subslide"
    }
   },
   "source": [
    "$$\n",
    "\\begin{array}{llll}\n",
    "\\hat{p} \\over {1- \\hat{p}} & = &  { 1 \\over { 1 + e^{-s} } } \\over { 1 -  {1 \\over { 1 + e^{-s} } } } \\\\\n",
    "& = & { 1 \\over { 1 + e^{-s} } } \\over { {1 + e^{-s}  -1} \\over {1 + e^{-s}} } \\\\\n",
    "& = & 1 \\over {e^{-s}} \\\\\n",
    "& = & e^{s}\n",
    "\\end{array}\n",
    "$$\n",
    "\n"
   ]
  },
  {
   "cell_type": "markdown",
   "metadata": {
    "slideshow": {
     "slide_type": "subslide"
    }
   },
   "source": [
    "so \n",
    "$$\\textrm{log}\\left(\\hat{p} \\over {1- \\hat{p}} \\right) = s\n",
    "$$\n",
    "\n",
    "That is, the score $s$ is the log of the odds ratio.  This will help us interpret the coefficients $\\Theta$."
   ]
  },
  {
   "cell_type": "markdown",
   "metadata": {
    "slideshow": {
     "slide_type": "slide"
    }
   },
   "source": [
    "### Cost function for Logistic Regression\n",
    "\n",
    "Consider a single observation with target $y$\n",
    "\n",
    "We assign the following cost to our prediction $\\hat{y}$\n",
    "\n",
    "$$\n",
    "\\begin{array}{lll}\n",
    "c(\\theta) & = &\n",
    "\\left\\{\n",
    "{\n",
    "    \\begin{array}{ll}\n",
    "    - \\textrm{log}(\\hat{p}) & \\textrm{if } & y = 1 \\\\\n",
    "    - \\textrm{log}(1-\\hat{p})     & \\textrm{if } & y = 0 \\\\\n",
    "    \\end{array}\n",
    "}\n",
    "\\right.\n",
    "& = & - \\left( y*\\textrm{log}(\\hat{p}) + (1-y) * \\textrm{log}(1-\\hat{p}) \\right)\n",
    "\\end{array}\n",
    "$$"
   ]
  },
  {
   "cell_type": "markdown",
   "metadata": {
    "slideshow": {
     "slide_type": "subslide"
    }
   },
   "source": [
    "and over the entire training set of size $m$\n",
    "\n",
    "$$\n",
    "J(\\theta) = \n",
    "\\frac{1}{m} \n",
    "\\sum_{i=1}^m \n",
    "\\left(\n",
    "{ y^i * \\textrm{log} (\\hat{p}^i) + (1-y^i) * \\textrm{log}(1-\\hat{p}^i)}\n",
    "\\right)\n",
    "$$"
   ]
  },
  {
   "cell_type": "markdown",
   "metadata": {
    "slideshow": {
     "slide_type": "subslide"
    }
   },
   "source": [
    "**Intuition**\n",
    "\n",
    "- if $y^i = 1$\n",
    "    - the second addend is 0\n",
    "    - we want the first addend to be small. i.e.,\n",
    "        - $\\hat{p}^i$ to be $1$, so that $\\textrm{log}( \\hat{p}^i) = 0$\n",
    "- if $y^i = 0$\n",
    "    - the first addend is 0\n",
    "        - we want the second addend to be small, i.e., \n",
    "            - $\\hat{p}^i$ to be $0$, so that  $\\textrm{log}( 1 - \\hat{p}^i) = 0$"
   ]
  },
  {
   "cell_type": "markdown",
   "metadata": {
    "slideshow": {
     "slide_type": "slide"
    }
   },
   "source": [
    "Note, this is an instance when the Performance Measure (Accuracy) and the Cost Function are not identical.\n",
    "\n",
    "n.b., they are close though.  Using the intuition above, you can see that the Cost Function is trying to force a high probability to the correct prediction (i.e, the accurate one).  \n",
    "\n",
    "The key difference is that Accuracy is not differentiable, but the Cost Function is.  So we can apply traditional, derivative-based optimization techniques to the Cost Function.\n"
   ]
  },
  {
   "cell_type": "code",
   "execution_count": 22,
   "metadata": {
    "slideshow": {
     "slide_type": "slide"
    }
   },
   "outputs": [],
   "source": [
    "y_train = train_data[\"Survived\"]"
   ]
  },
  {
   "cell_type": "markdown",
   "metadata": {
    "slideshow": {
     "slide_type": "slide"
    }
   },
   "source": [
    "### Logistic Regression classifier\n",
    "\n",
    "Let's instantiate a `LogisticRegression` classifier"
   ]
  },
  {
   "cell_type": "code",
   "execution_count": 23,
   "metadata": {
    "slideshow": {
     "slide_type": "subslide"
    }
   },
   "outputs": [],
   "source": [
    "from sklearn.model_selection import cross_val_score\n",
    "from sklearn import linear_model, preprocessing, model_selection \n",
    "\n",
    "# New version of sklearn will give a warning if you don't specify a solver (b/c the default solver -- liblinear -- will be replaced in future)\n",
    "logistic_clf = linear_model.LogisticRegression(solver='liblinear')"
   ]
  },
  {
   "cell_type": "markdown",
   "metadata": {
    "slideshow": {
     "slide_type": "slide"
    }
   },
   "source": [
    "### More models, more fun ! Same price !"
   ]
  },
  {
   "cell_type": "markdown",
   "metadata": {
    "slideshow": {
     "slide_type": "subslide"
    }
   },
   "source": [
    "#### SVM Classifier"
   ]
  },
  {
   "cell_type": "code",
   "execution_count": 24,
   "metadata": {
    "slideshow": {
     "slide_type": "subslide"
    }
   },
   "outputs": [],
   "source": [
    "from sklearn.svm import SVC\n",
    "\n",
    "svm_clf = SVC(gamma=\"auto\")"
   ]
  },
  {
   "cell_type": "markdown",
   "metadata": {
    "slideshow": {
     "slide_type": "subslide"
    }
   },
   "source": [
    "#### Random Forest Classifier"
   ]
  },
  {
   "cell_type": "code",
   "execution_count": 25,
   "metadata": {
    "slideshow": {
     "slide_type": "subslide"
    }
   },
   "outputs": [],
   "source": [
    "from sklearn.ensemble import RandomForestClassifier\n",
    "\n",
    "forest_clf = RandomForestClassifier(n_estimators=100, random_state=42)"
   ]
  },
  {
   "cell_type": "markdown",
   "metadata": {
    "slideshow": {
     "slide_type": "slide"
    }
   },
   "source": [
    "### Train the models: The power of a consistent API - training many models as easy as training one"
   ]
  },
  {
   "cell_type": "code",
   "execution_count": 26,
   "metadata": {
    "slideshow": {
     "slide_type": "subslide"
    }
   },
   "outputs": [
    {
     "name": "stdout",
     "output_type": "stream",
     "text": [
      "Model:  Logistic\n",
      "SexToInt:transform: Cheating alert!, X has 2 columns.\n"
     ]
    },
    {
     "data": {
      "text/plain": [
       "LogisticRegression(C=1.0, class_weight=None, dual=False, fit_intercept=True,\n",
       "          intercept_scaling=1, max_iter=100, multi_class='warn',\n",
       "          n_jobs=None, penalty='l2', random_state=None, solver='liblinear',\n",
       "          tol=0.0001, verbose=0, warm_start=False)"
      ]
     },
     "execution_count": 26,
     "metadata": {},
     "output_type": "execute_result"
    },
    {
     "name": "stdout",
     "output_type": "stream",
     "text": [
      "SexToInt:transform: Cheating alert!, X has 2 columns.\n"
     ]
    },
    {
     "data": {
      "text/plain": [
       "0.7890208262399273"
      ]
     },
     "execution_count": 26,
     "metadata": {},
     "output_type": "execute_result"
    },
    {
     "name": "stdout",
     "output_type": "stream",
     "text": [
      "Model:  SVM\n",
      "SexToInt:transform: Cheating alert!, X has 2 columns.\n"
     ]
    },
    {
     "data": {
      "text/plain": [
       "SVC(C=1.0, cache_size=200, class_weight=None, coef0=0.0,\n",
       "  decision_function_shape='ovr', degree=3, gamma='auto', kernel='rbf',\n",
       "  max_iter=-1, probability=False, random_state=None, shrinking=True,\n",
       "  tol=0.001, verbose=False)"
      ]
     },
     "execution_count": 26,
     "metadata": {},
     "output_type": "execute_result"
    },
    {
     "name": "stdout",
     "output_type": "stream",
     "text": [
      "SexToInt:transform: Cheating alert!, X has 2 columns.\n"
     ]
    },
    {
     "data": {
      "text/plain": [
       "0.7318786176370445"
      ]
     },
     "execution_count": 26,
     "metadata": {},
     "output_type": "execute_result"
    },
    {
     "name": "stdout",
     "output_type": "stream",
     "text": [
      "Model:  Random Forest\n",
      "SexToInt:transform: Cheating alert!, X has 2 columns.\n"
     ]
    },
    {
     "data": {
      "text/plain": [
       "RandomForestClassifier(bootstrap=True, class_weight=None, criterion='gini',\n",
       "            max_depth=None, max_features='auto', max_leaf_nodes=None,\n",
       "            min_impurity_decrease=0.0, min_impurity_split=None,\n",
       "            min_samples_leaf=1, min_samples_split=2,\n",
       "            min_weight_fraction_leaf=0.0, n_estimators=100, n_jobs=None,\n",
       "            oob_score=False, random_state=42, verbose=0, warm_start=False)"
      ]
     },
     "execution_count": 26,
     "metadata": {},
     "output_type": "execute_result"
    },
    {
     "name": "stdout",
     "output_type": "stream",
     "text": [
      "SexToInt:transform: Cheating alert!, X has 2 columns.\n"
     ]
    },
    {
     "data": {
      "text/plain": [
       "0.7970375099307684"
      ]
     },
     "execution_count": 26,
     "metadata": {},
     "output_type": "execute_result"
    }
   ],
   "source": [
    "for name, clf in { \"Logistic\": logistic_clf,\n",
    "                   \"SVM\": svm_clf,\n",
    "                   \"Random Forest\": forest_clf\n",
    "                 }.items():\n",
    "    \n",
    "    print(\"Model: \", name)\n",
    "    X_train = preprocess_pipeline.fit_transform(train_data)\n",
    "    clf.fit(X_train, y_train)\n",
    "    \n",
    "    X_test = preprocess_pipeline.transform(test_data)\n",
    "    y_pred = clf.predict(X_test)\n",
    "\n",
    "    scores = cross_val_score(clf, X_train, y_train, cv=10)\n",
    "    scores.mean()"
   ]
  },
  {
   "cell_type": "markdown",
   "metadata": {
    "slideshow": {
     "slide_type": "slide"
    }
   },
   "source": [
    "Be sure to run the test set through the pipeline that was fit to the train set !"
   ]
  },
  {
   "cell_type": "markdown",
   "metadata": {
    "slideshow": {
     "slide_type": "slide"
    }
   },
   "source": [
    "## Feature engineering\n",
    "\n",
    "We really didn't do any feature \"engineering\", just some minor transformations\n",
    "- missing data\n",
    "- dealing with non-numeric \"Sex\" feature\n",
    "    - Sex is a categorical (Non-numeric) feature with only two possible values, which we translate into $(0,1)$\n",
    "    - A fuller discussion of categorical features (and targets) will follow"
   ]
  },
  {
   "cell_type": "markdown",
   "metadata": {
    "slideshow": {
     "slide_type": "slide"
    }
   },
   "source": [
    "### Feature engineering: Preview, Coming Attractions\n",
    "We'll spend a lot more time on this next week but, for now, just a taste.\n",
    "\n",
    "For many models (e.g., Regression-like) the value of a feature it related to its' importance.\n",
    "That is, if the observation's feature has value 100, it contributes twice as much to a linear combination as a value of 50\n",
    "\n",
    "But is this stricly true ? Does an Age of 25 really differ at all from an Age of 26 ?\n",
    "\n",
    "Might be able to improve things using \"buckets\": all Ages within a range (bucket) are given the same value\n",
    "So the model will try to make distinctions across buckets, but not within bucket"
   ]
  },
  {
   "cell_type": "code",
   "execution_count": 27,
   "metadata": {
    "slideshow": {
     "slide_type": "subslide"
    }
   },
   "outputs": [
    {
     "data": {
      "text/html": [
       "<div>\n",
       "<style scoped>\n",
       "    .dataframe tbody tr th:only-of-type {\n",
       "        vertical-align: middle;\n",
       "    }\n",
       "\n",
       "    .dataframe tbody tr th {\n",
       "        vertical-align: top;\n",
       "    }\n",
       "\n",
       "    .dataframe thead th {\n",
       "        text-align: right;\n",
       "    }\n",
       "</style>\n",
       "<table border=\"1\" class=\"dataframe\">\n",
       "  <thead>\n",
       "    <tr style=\"text-align: right;\">\n",
       "      <th></th>\n",
       "      <th>Survived</th>\n",
       "    </tr>\n",
       "    <tr>\n",
       "      <th>AgeBucket</th>\n",
       "      <th></th>\n",
       "    </tr>\n",
       "  </thead>\n",
       "  <tbody>\n",
       "    <tr>\n",
       "      <th>0.0</th>\n",
       "      <td>0.576923</td>\n",
       "    </tr>\n",
       "    <tr>\n",
       "      <th>15.0</th>\n",
       "      <td>0.362745</td>\n",
       "    </tr>\n",
       "    <tr>\n",
       "      <th>30.0</th>\n",
       "      <td>0.423256</td>\n",
       "    </tr>\n",
       "    <tr>\n",
       "      <th>45.0</th>\n",
       "      <td>0.404494</td>\n",
       "    </tr>\n",
       "    <tr>\n",
       "      <th>60.0</th>\n",
       "      <td>0.240000</td>\n",
       "    </tr>\n",
       "    <tr>\n",
       "      <th>75.0</th>\n",
       "      <td>1.000000</td>\n",
       "    </tr>\n",
       "  </tbody>\n",
       "</table>\n",
       "</div>"
      ],
      "text/plain": [
       "           Survived\n",
       "AgeBucket          \n",
       "0.0        0.576923\n",
       "15.0       0.362745\n",
       "30.0       0.423256\n",
       "45.0       0.404494\n",
       "60.0       0.240000\n",
       "75.0       1.000000"
      ]
     },
     "execution_count": 27,
     "metadata": {},
     "output_type": "execute_result"
    }
   ],
   "source": [
    "train_data[\"AgeBucket\"] = train_data[\"Age\"] // 15 * 15\n",
    "train_data[[\"AgeBucket\", \"Survived\"]].groupby(['AgeBucket']).mean()"
   ]
  },
  {
   "cell_type": "markdown",
   "metadata": {
    "slideshow": {
     "slide_type": "subslide"
    }
   },
   "source": [
    "Wow ! Children below the age of 15 had a much better chance of survival.  (And it doesn't pay to be old when disaster strikes!)\n",
    "\n",
    "We would be hard pressed to see this using Age as a continous variable"
   ]
  },
  {
   "cell_type": "markdown",
   "metadata": {
    "slideshow": {
     "slide_type": "slide"
    }
   },
   "source": [
    "# What if the target has more than 2 classes ? Multinomial Classification\n",
    "\n",
    "So far, we have a binary classifier.  What to do if the target has more than $K > 2$ classes ?\n",
    "\n",
    "Just for notation, let's refer to the class labels as $1, .., K$\n",
    "\n",
    "This is called **Multinomial** or **Multiclass** Classification\n",
    "\n",
    "Some models (e.g. Decision Trees) can handle this directly."
   ]
  },
  {
   "cell_type": "markdown",
   "metadata": {
    "slideshow": {
     "slide_type": "subslide"
    }
   },
   "source": [
    "For those that can't, we can adapt a binary classifier:\n",
    "- One versus All (**OvA**):\n",
    "    - create $K$ binary classifiers, one for each class label\n",
    "        - Use the $i^{th}$ binary classifier to predict: Is $i$, or is not $i$\n",
    "    - predict the class whose binary classifier yields the highest probability\n",
    "- One versus One (**OvO**)\n",
    "    - create $ K \\cdot (K-1)/2$ binary classifiers, one for each pair of class labels\n",
    "    - predict the class that wins in the most paired classifications"
   ]
  },
  {
   "cell_type": "markdown",
   "metadata": {
    "slideshow": {
     "slide_type": "subslide"
    }
   },
   "source": [
    "Fortunately, sklearn hides all of this from you.\n",
    "\n",
    "What you *should* realize is that many models are being fit, each with it's own parameters.\n",
    "- e.g., *OvA* fits $K$ models, each having it's own parameter vector $\\theta^k$"
   ]
  },
  {
   "cell_type": "markdown",
   "metadata": {
    "slideshow": {
     "slide_type": "subslide"
    }
   },
   "source": [
    "*Geron page 130*\n",
    "\n",
    ">Scikit-Learn\tdetects\twhen\tyou\ttry\tto\tuse\ta\tbinary\tclassification\talgorithm\tfor\ta\tmulticlass\tclassification\n",
    "task,\tand\tit\tautomatically\truns\tOvA\t(except\tfor\tSVM\tclassifiers\tfor\twhich\tit\tuses\tOvO).\n",
    "\n",
    "In spite of this, we'll continue a little deeper into the mechanics of multinomial classification.\n",
    "\n",
    "It will prove useful when we encounter Neural Nets.\n",
    "\n",
    "It is always good to understand what is happening \"under the hood\" as you might need to tinker someday !"
   ]
  },
  {
   "cell_type": "markdown",
   "metadata": {
    "slideshow": {
     "slide_type": "slide"
    }
   },
   "source": [
    "## Softmax Regression\n",
    "\n",
    "There is another way of thinking about **OvA**: we fit $K$ models, each computing a *score* for one class.\n",
    "\n",
    "$$s_k(x) = (\\theta^k)^T \\cdot x$$\n",
    "\n",
    "The above is the score for class $k$ on input feature vector $x$.  Note that model $k$ has it's own parameters $\\theta^k$.\n",
    "\n",
    "**Note** the score is the input to the sigmoid function, before it is converted into a probability by the sigmoid function.\n",
    "\n",
    "So $s(x)$ is a vector of length $K$; the $k^{th}$ element is the score for class $k$."
   ]
  },
  {
   "cell_type": "markdown",
   "metadata": {
    "slideshow": {
     "slide_type": "subslide"
    }
   },
   "source": [
    "We can convert these $K$ scores into probabilities via the **softmax function**, a multclass generalization of the binary sigmoid function:\n",
    "\n",
    "$$\n",
    "\\begin{array}{lll}\n",
    "\\hat{p}_k & = & \\sigma( s(x) )_k \\\\\n",
    "          & = & \\frac{\\textrm{exp}( s_k(x) )}  { \\sum_{k=1}^K {\\textrm{exp}( s_k(x) )}}\n",
    "\\end{array}\n",
    "$$\n",
    "\n",
    "You can see that $\\sum_{k=1}^K ( \\hat{p}_k ) = 1$ so each is a probability.\n",
    "\n",
    "You predict the class having the probability:\n",
    "$$\\hat{y} = \\textrm{argmax}_k { \\hat{p}_k}$$\n",
    "\n",
    "(See Geron page 185)"
   ]
  },
  {
   "cell_type": "markdown",
   "metadata": {
    "slideshow": {
     "slide_type": "subslide"
    }
   },
   "source": [
    "### Multinomial target via One-Hot encoding\n",
    "\n",
    "Since there are $K > 2$ target classes, we can't use just two labels $(0,1)$.\n",
    "\n",
    "Instead, we represent the $i^{th}$ target $y^i$ as a vector of length $K$.\n",
    "- $y^i_k = 1$ is the target for observation $i$ is $k$\n",
    "- $y^i_j = 0$ for all $j \\ne k$\n",
    "\n",
    "That is, $y^i$ is a vector (of length $K$) that is all 0 *except* at the position of the target label.\n",
    "\n",
    "This is called\n",
    "- **one-hot** encoding\n",
    "- **dummy** or **indicator** variables"
   ]
  },
  {
   "cell_type": "markdown",
   "metadata": {
    "slideshow": {
     "slide_type": "subslide"
    }
   },
   "source": [
    "   $$\n",
    "    \\begin{array}{cccc}\n",
    "    &    & y==1 & y==2 & y==3 & \\ldots & y==K \\\\\n",
    "    &y=1 & 1    & 0    & 0    &        & 0    \\\\\n",
    "    &y=2 & 0    & 1    & 0    &        & 0    \\\\\n",
    "    &y=3 & 0    & 0    & 1    &        & 0    \\\\\n",
    "    & \\ldots \\\\\n",
    "    &y=K & 0    & 0    & 0    &        & 1    \\\\\n",
    "    \\end{array}\n",
    "    $$\n"
   ]
  },
  {
   "cell_type": "markdown",
   "metadata": {
    "slideshow": {
     "slide_type": "subslide"
    }
   },
   "source": [
    "One way to think about this is that your target is now a probability distribution, with all the mass concentrated at one point.\n",
    "\n",
    "This may sound pedantic, but seen this way, the Cross Entropy Cost Function is a measure of the similarity between two probability distributions\n",
    "- The target distribution $y^i$\n",
    "- The predicted distribution $\\hat{p}^i$\n",
    "\n",
    "This is, in practice, how Cross Entropy is used, as you will see later in the course."
   ]
  },
  {
   "cell_type": "markdown",
   "metadata": {
    "slideshow": {
     "slide_type": "subslide"
    }
   },
   "source": [
    "### Cost function for multinomial regression\n",
    "\n",
    "The multinomial Cost Function is a generalization of the binary case:\n",
    "\n",
    "$$\n",
    "J(\\theta) = \n",
    "- \\frac{1}{m} \n",
    "\\sum_{i=1}^m \n",
    "\\sum_{k=1}^K\n",
    "\\left(\n",
    "{ y_k^i * \\textrm{log} (\\hat{p}_k^i)}\n",
    "\\right)\n",
    "$$\n",
    "\n",
    "This is called the **Cross Entropy** Cost Function."
   ]
  },
  {
   "cell_type": "markdown",
   "metadata": {
    "slideshow": {
     "slide_type": "slide"
    }
   },
   "source": [
    "# Non-numerical features: Categorical Features\n",
    "\n",
    "In our exploration of the Titanic data, we discovered several categorical features\n",
    "- Sex\n",
    "- Cabin\n",
    "- Embarked\n",
    "\n",
    "The only one we retained was Sex, and our pipeline converted \"Male\"/\"Female\" to $(0,1)$\n",
    "\n",
    "`class SexToInt(BaseEstimator, TransformerMixin):`\n",
    "\n",
    "    ...\n",
    "    \n",
    "    def transform(self, X, y=None):\n",
    "        sex = X[\"Sex\"]\n",
    "        X[\"Sex\"] = 0\n",
    "        X[ sex == \"female\" ] = 1`"
   ]
  },
  {
   "cell_type": "markdown",
   "metadata": {
    "slideshow": {
     "slide_type": "subslide"
    }
   },
   "source": [
    "The way to treat categorical features is the same way we treated categorical targets:\n",
    "- via one-hot encoding (aka, dummy/indicator variables)\n",
    "\n",
    "We implemented our own transformation from Categorial to One Hot for the Sex attribute.\n",
    "\n",
    "sklearn has transformations to do this for us."
   ]
  },
  {
   "cell_type": "markdown",
   "metadata": {
    "slideshow": {
     "slide_type": "slide"
    }
   },
   "source": [
    "## Categorical feature example"
   ]
  },
  {
   "cell_type": "markdown",
   "metadata": {
    "slideshow": {
     "slide_type": "notes"
    }
   },
   "source": [
    "[Geron, cell 59, 62 see comments](external/handson-ml/02_end_to_end_machine_learning_project.ipynb)\n",
    "    - LabelEncoder, LabelBinarizer deprecated\n",
    "        - OrdinalEncoder, OneHotEncoder favored\n",
    "        \n",
    "- LabelEncoder page 90: text labels to integers (also: CatgoricalEncoder ?)\n",
    "    - why this can be bad, vs OneHotEncoder page 90\n",
    "        - implies order and magnitude\n",
    "        - produces SciPy sparse matrix\n",
    "        - LabelBinarizer (deprecated per comment above)\n",
    "- Picture\n",
    "    - one column with K distinct labels to K binary columns\n",
    "- Which numeric Titanic feature is really categorical ?"
   ]
  },
  {
   "cell_type": "markdown",
   "metadata": {
    "slideshow": {
     "slide_type": "-"
    }
   },
   "source": [
    "### Titanic categorical features, without cheating\n",
    "\n",
    "Anyone spot where we \"cheated\" on the categorical feature in our first pass at the Titanic ?\n",
    "\n",
    "- What type of attribute is Pclass ?\n",
    "    - It looks numeric\n",
    "        -  But is it really ?\n",
    "            - We'll explore this more deeply in the module on Data Transformations\n",
    "                - How different is `Pclass == 2` from `Pclass == 1` ?\n",
    "                - What if the classes were labeled `Pclass = 100` and `Pclass == 200`"
   ]
  },
  {
   "cell_type": "markdown",
   "metadata": {
    "slideshow": {
     "slide_type": "slide"
    }
   },
   "source": [
    "The correct way to deal with Categorical variables is via One-Hot Encoding (Dummy/Indicator Variables)\n",
    "- Same as we did for Multinomial Target\n",
    "- If there are $K$ possible values in the category for a feature $F$\n",
    "    - represent the attributes as $K$ indicator varialbes\n",
    "    \n",
    "    $$\n",
    "    \\begin{array}{cccc}\n",
    "    &    & F==1 & F==2 & F==3 & \\ldots & F==K \\\\\n",
    "    &F=1 & 1    & 0    & 0    &        & 0    \\\\\n",
    "    &F=2 & 0    & 1    & 0    &        & 0    \\\\\n",
    "    &F=3 & 0    & 0    & 1    &        & 0    \\\\\n",
    "    & \\ldots \\\\\n",
    "    &F=K & 0    & 0    & 0    &        & 1    \\\\\n",
    "    \\end{array}\n",
    "    $$\n"
   ]
  },
  {
   "cell_type": "code",
   "execution_count": 28,
   "metadata": {
    "slideshow": {
     "slide_type": "slide"
    }
   },
   "outputs": [],
   "source": [
    "from sklearn.preprocessing import OneHotEncoder \n",
    "\n",
    "cat_pipeline = Pipeline([\n",
    "        (\"select_cat\", DataFrameSelector( cat_features )),\n",
    "        (\"imputer\", MostFrequentImputer()),\n",
    "        (\"cat_encoder\", OneHotEncoder(sparse=False)),\n",
    "    ])\n",
    "\n",
    "preprocess_pipeline = FeatureUnion(transformer_list=[\n",
    "        (\"num_pipeline\", num_pipeline),\n",
    "        (\"cat_pipeline\", cat_pipeline),\n",
    "    ])"
   ]
  },
  {
   "cell_type": "markdown",
   "metadata": {
    "slideshow": {
     "slide_type": "subslide"
    }
   },
   "source": [
    "You can now see that the `cat_pipeline` results in $5$ columns now (as opposed to $2$) when we cheated:\n",
    "- The \"Sex\" attribute is now 2 columns (\"Sex == female\", \"Sex == male\")\n",
    "- The \"Parch\" attribute is now 3 columns (\"Parch ==1\", \"Parch == 2\", \"Parch == 3\")"
   ]
  },
  {
   "cell_type": "code",
   "execution_count": 29,
   "metadata": {
    "slideshow": {
     "slide_type": "subslide"
    }
   },
   "outputs": [
    {
     "name": "stdout",
     "output_type": "stream",
     "text": [
      "Sex:\n",
      "\n"
     ]
    },
    {
     "data": {
      "text/plain": [
       "array([[0., 1.],\n",
       "       [1., 0.],\n",
       "       [1., 0.],\n",
       "       [1., 0.],\n",
       "       [0., 1.],\n",
       "       [0., 1.],\n",
       "       [0., 1.]])"
      ]
     },
     "execution_count": 29,
     "metadata": {},
     "output_type": "execute_result"
    },
    {
     "data": {
      "text/html": [
       "<div>\n",
       "<style scoped>\n",
       "    .dataframe tbody tr th:only-of-type {\n",
       "        vertical-align: middle;\n",
       "    }\n",
       "\n",
       "    .dataframe tbody tr th {\n",
       "        vertical-align: top;\n",
       "    }\n",
       "\n",
       "    .dataframe thead th {\n",
       "        text-align: right;\n",
       "    }\n",
       "</style>\n",
       "<table border=\"1\" class=\"dataframe\">\n",
       "  <thead>\n",
       "    <tr style=\"text-align: right;\">\n",
       "      <th></th>\n",
       "      <th>Sex</th>\n",
       "    </tr>\n",
       "  </thead>\n",
       "  <tbody>\n",
       "    <tr>\n",
       "      <th>0</th>\n",
       "      <td>male</td>\n",
       "    </tr>\n",
       "    <tr>\n",
       "      <th>1</th>\n",
       "      <td>female</td>\n",
       "    </tr>\n",
       "    <tr>\n",
       "      <th>2</th>\n",
       "      <td>female</td>\n",
       "    </tr>\n",
       "    <tr>\n",
       "      <th>3</th>\n",
       "      <td>female</td>\n",
       "    </tr>\n",
       "    <tr>\n",
       "      <th>4</th>\n",
       "      <td>male</td>\n",
       "    </tr>\n",
       "    <tr>\n",
       "      <th>5</th>\n",
       "      <td>male</td>\n",
       "    </tr>\n",
       "    <tr>\n",
       "      <th>6</th>\n",
       "      <td>male</td>\n",
       "    </tr>\n",
       "  </tbody>\n",
       "</table>\n",
       "</div>"
      ],
      "text/plain": [
       "      Sex\n",
       "0    male\n",
       "1  female\n",
       "2  female\n",
       "3  female\n",
       "4    male\n",
       "5    male\n",
       "6    male"
      ]
     },
     "execution_count": 29,
     "metadata": {},
     "output_type": "execute_result"
    }
   ],
   "source": [
    "# Run the categorial pipeline\n",
    "cat_ndarray = cat_pipeline.fit_transform(train_data)\n",
    "\n",
    "# Let's examine the first first rows of the ndarray, and relate them to the same rows in the DataFrame, \n",
    "# -- n.b., with the DataFrame, we can see the column names\n",
    "num_to_see = 7\n",
    "\n",
    "print(cat_features[0] + \":\\n\")\n",
    "cat_ndarray[:num_to_see, :2]\n",
    "\n",
    "train_data.loc[:, [ cat_features[0] ] ].head(num_to_see)"
   ]
  },
  {
   "cell_type": "code",
   "execution_count": 30,
   "metadata": {
    "slideshow": {
     "slide_type": "subslide"
    }
   },
   "outputs": [
    {
     "name": "stdout",
     "output_type": "stream",
     "text": [
      "Pclass:\n",
      "\n"
     ]
    },
    {
     "data": {
      "text/plain": [
       "array([[0., 0., 1.],\n",
       "       [1., 0., 0.],\n",
       "       [0., 0., 1.],\n",
       "       [1., 0., 0.],\n",
       "       [0., 0., 1.],\n",
       "       [0., 0., 1.],\n",
       "       [1., 0., 0.]])"
      ]
     },
     "execution_count": 30,
     "metadata": {},
     "output_type": "execute_result"
    },
    {
     "data": {
      "text/html": [
       "<div>\n",
       "<style scoped>\n",
       "    .dataframe tbody tr th:only-of-type {\n",
       "        vertical-align: middle;\n",
       "    }\n",
       "\n",
       "    .dataframe tbody tr th {\n",
       "        vertical-align: top;\n",
       "    }\n",
       "\n",
       "    .dataframe thead th {\n",
       "        text-align: right;\n",
       "    }\n",
       "</style>\n",
       "<table border=\"1\" class=\"dataframe\">\n",
       "  <thead>\n",
       "    <tr style=\"text-align: right;\">\n",
       "      <th></th>\n",
       "      <th>Pclass</th>\n",
       "    </tr>\n",
       "  </thead>\n",
       "  <tbody>\n",
       "    <tr>\n",
       "      <th>0</th>\n",
       "      <td>3</td>\n",
       "    </tr>\n",
       "    <tr>\n",
       "      <th>1</th>\n",
       "      <td>1</td>\n",
       "    </tr>\n",
       "    <tr>\n",
       "      <th>2</th>\n",
       "      <td>3</td>\n",
       "    </tr>\n",
       "    <tr>\n",
       "      <th>3</th>\n",
       "      <td>1</td>\n",
       "    </tr>\n",
       "    <tr>\n",
       "      <th>4</th>\n",
       "      <td>3</td>\n",
       "    </tr>\n",
       "    <tr>\n",
       "      <th>5</th>\n",
       "      <td>3</td>\n",
       "    </tr>\n",
       "    <tr>\n",
       "      <th>6</th>\n",
       "      <td>1</td>\n",
       "    </tr>\n",
       "  </tbody>\n",
       "</table>\n",
       "</div>"
      ],
      "text/plain": [
       "   Pclass\n",
       "0       3\n",
       "1       1\n",
       "2       3\n",
       "3       1\n",
       "4       3\n",
       "5       3\n",
       "6       1"
      ]
     },
     "execution_count": 30,
     "metadata": {},
     "output_type": "execute_result"
    }
   ],
   "source": [
    "print(cat_features[1] + \":\\n\")\n",
    "cat_ndarray[:num_to_see, -3:]\n",
    "train_data.loc[:, [ cat_features[1]]].head(num_to_see)"
   ]
  },
  {
   "cell_type": "code",
   "execution_count": 31,
   "metadata": {
    "slideshow": {
     "slide_type": "slide"
    }
   },
   "outputs": [
    {
     "data": {
      "text/plain": [
       "(891, 9)"
      ]
     },
     "execution_count": 31,
     "metadata": {},
     "output_type": "execute_result"
    },
    {
     "data": {
      "text/plain": [
       "array([[22.,  1.,  0., ...,  0.,  0.,  1.],\n",
       "       [38.,  1.,  0., ...,  1.,  0.,  0.],\n",
       "       [26.,  0.,  0., ...,  0.,  0.,  1.],\n",
       "       ...,\n",
       "       [28.,  1.,  2., ...,  0.,  0.,  1.],\n",
       "       [26.,  0.,  0., ...,  1.,  0.,  0.],\n",
       "       [32.,  0.,  0., ...,  0.,  0.,  1.]])"
      ]
     },
     "execution_count": 31,
     "metadata": {},
     "output_type": "execute_result"
    }
   ],
   "source": [
    "X_train = preprocess_pipeline.fit_transform(train_data)\n",
    "\n",
    "X_train.shape\n",
    "X_train"
   ]
  },
  {
   "cell_type": "code",
   "execution_count": 32,
   "metadata": {
    "slideshow": {
     "slide_type": "slide"
    }
   },
   "outputs": [
    {
     "data": {
      "text/html": [
       "<div>\n",
       "<style scoped>\n",
       "    .dataframe tbody tr th:only-of-type {\n",
       "        vertical-align: middle;\n",
       "    }\n",
       "\n",
       "    .dataframe tbody tr th {\n",
       "        vertical-align: top;\n",
       "    }\n",
       "\n",
       "    .dataframe thead th {\n",
       "        text-align: right;\n",
       "    }\n",
       "</style>\n",
       "<table border=\"1\" class=\"dataframe\">\n",
       "  <thead>\n",
       "    <tr style=\"text-align: right;\">\n",
       "      <th></th>\n",
       "      <th>Age</th>\n",
       "      <th>SibSp</th>\n",
       "      <th>Parch</th>\n",
       "      <th>Fare</th>\n",
       "      <th>Sex</th>\n",
       "      <th>Pclass</th>\n",
       "    </tr>\n",
       "  </thead>\n",
       "  <tbody>\n",
       "    <tr>\n",
       "      <th>0</th>\n",
       "      <td>22.0</td>\n",
       "      <td>1</td>\n",
       "      <td>0</td>\n",
       "      <td>7.2500</td>\n",
       "      <td>male</td>\n",
       "      <td>3</td>\n",
       "    </tr>\n",
       "    <tr>\n",
       "      <th>1</th>\n",
       "      <td>38.0</td>\n",
       "      <td>1</td>\n",
       "      <td>0</td>\n",
       "      <td>71.2833</td>\n",
       "      <td>female</td>\n",
       "      <td>1</td>\n",
       "    </tr>\n",
       "    <tr>\n",
       "      <th>2</th>\n",
       "      <td>26.0</td>\n",
       "      <td>0</td>\n",
       "      <td>0</td>\n",
       "      <td>7.9250</td>\n",
       "      <td>female</td>\n",
       "      <td>3</td>\n",
       "    </tr>\n",
       "    <tr>\n",
       "      <th>3</th>\n",
       "      <td>35.0</td>\n",
       "      <td>1</td>\n",
       "      <td>0</td>\n",
       "      <td>53.1000</td>\n",
       "      <td>female</td>\n",
       "      <td>1</td>\n",
       "    </tr>\n",
       "    <tr>\n",
       "      <th>4</th>\n",
       "      <td>35.0</td>\n",
       "      <td>0</td>\n",
       "      <td>0</td>\n",
       "      <td>8.0500</td>\n",
       "      <td>male</td>\n",
       "      <td>3</td>\n",
       "    </tr>\n",
       "  </tbody>\n",
       "</table>\n",
       "</div>"
      ],
      "text/plain": [
       "    Age  SibSp  Parch     Fare     Sex  Pclass\n",
       "0  22.0      1      0   7.2500    male       3\n",
       "1  38.0      1      0  71.2833  female       1\n",
       "2  26.0      0      0   7.9250  female       3\n",
       "3  35.0      1      0  53.1000  female       1\n",
       "4  35.0      0      0   8.0500    male       3"
      ]
     },
     "execution_count": 32,
     "metadata": {},
     "output_type": "execute_result"
    },
    {
     "data": {
      "text/plain": [
       "array([[0., 0., 1.],\n",
       "       [1., 0., 0.],\n",
       "       [0., 0., 1.],\n",
       "       [1., 0., 0.],\n",
       "       [0., 0., 1.]])"
      ]
     },
     "execution_count": 32,
     "metadata": {},
     "output_type": "execute_result"
    }
   ],
   "source": [
    "all_features = num_features.copy()\n",
    "all_features.extend(cat_features)\n",
    "train_data.loc[:, all_features ] .head()\n",
    "\n",
    "# Examine the one-hot encoding of Pclass\n",
    "X_train[:5,-3:]"
   ]
  },
  {
   "cell_type": "markdown",
   "metadata": {
    "slideshow": {
     "slide_type": "slide"
    }
   },
   "source": [
    "OK, no more cheating.  How did we do ?"
   ]
  },
  {
   "cell_type": "code",
   "execution_count": 33,
   "metadata": {
    "slideshow": {
     "slide_type": "subslide"
    }
   },
   "outputs": [
    {
     "name": "stdout",
     "output_type": "stream",
     "text": [
      "Model:  Logistic\n"
     ]
    },
    {
     "data": {
      "text/plain": [
       "LogisticRegression(C=1.0, class_weight=None, dual=False, fit_intercept=True,\n",
       "          intercept_scaling=1, max_iter=100, multi_class='warn',\n",
       "          n_jobs=None, penalty='l2', random_state=None, solver='liblinear',\n",
       "          tol=0.0001, verbose=0, warm_start=False)"
      ]
     },
     "execution_count": 33,
     "metadata": {},
     "output_type": "execute_result"
    },
    {
     "data": {
      "text/plain": [
       "0.790144989218023"
      ]
     },
     "execution_count": 33,
     "metadata": {},
     "output_type": "execute_result"
    },
    {
     "name": "stdout",
     "output_type": "stream",
     "text": [
      "Model:  SVM\n"
     ]
    },
    {
     "data": {
      "text/plain": [
       "SVC(C=1.0, cache_size=200, class_weight=None, coef0=0.0,\n",
       "  decision_function_shape='ovr', degree=3, gamma='auto', kernel='rbf',\n",
       "  max_iter=-1, probability=False, random_state=None, shrinking=True,\n",
       "  tol=0.001, verbose=False)"
      ]
     },
     "execution_count": 33,
     "metadata": {},
     "output_type": "execute_result"
    },
    {
     "data": {
      "text/plain": [
       "0.7353262966746114"
      ]
     },
     "execution_count": 33,
     "metadata": {},
     "output_type": "execute_result"
    },
    {
     "name": "stdout",
     "output_type": "stream",
     "text": [
      "Model:  Random Forest\n"
     ]
    },
    {
     "data": {
      "text/plain": [
       "RandomForestClassifier(bootstrap=True, class_weight=None, criterion='gini',\n",
       "            max_depth=None, max_features='auto', max_leaf_nodes=None,\n",
       "            min_impurity_decrease=0.0, min_impurity_split=None,\n",
       "            min_samples_leaf=1, min_samples_split=2,\n",
       "            min_weight_fraction_leaf=0.0, n_estimators=100, n_jobs=None,\n",
       "            oob_score=False, random_state=42, verbose=0, warm_start=False)"
      ]
     },
     "execution_count": 33,
     "metadata": {},
     "output_type": "execute_result"
    },
    {
     "data": {
      "text/plain": [
       "0.8127806151401658"
      ]
     },
     "execution_count": 33,
     "metadata": {},
     "output_type": "execute_result"
    }
   ],
   "source": [
    "for name, clf in { \"Logistic\": logistic_clf,\n",
    "                   \"SVM\": svm_clf,\n",
    "                   \"Random Forest\": forest_clf\n",
    "                 }.items():\n",
    "    \n",
    "    print(\"Model: \", name)\n",
    "    X_train = preprocess_pipeline.fit_transform(train_data)\n",
    "    clf.fit(X_train, y_train)\n",
    "    \n",
    "    X_test = preprocess_pipeline.transform(test_data)\n",
    "    y_pred = clf.predict(X_test)\n",
    "\n",
    "    scores = cross_val_score(clf, X_train, y_train, cv=10)\n",
    "    scores.mean()"
   ]
  },
  {
   "cell_type": "markdown",
   "metadata": {
    "slideshow": {
     "slide_type": "slide"
    }
   },
   "source": [
    "Not too different across models (hard to even know whether the difference is statistically significant).\n",
    "\n",
    "Points\n",
    "- Using (0,1) for a single binary feature (\"Sex\") shouldn't make a difference\n",
    "- $\\textrm{Pclass} \\in \\{ 1, 2, 3 \\}$ vs $\\{ [0,0,1], [0,1,0], [0,0,1]\\}$ doesn't seem to make difference\n",
    "    - Questions: what if `Pclass` were $\\textrm{Pclass} \\in \\{ 100, 200, 300 \\}$ "
   ]
  },
  {
   "cell_type": "markdown",
   "metadata": {
    "slideshow": {
     "slide_type": "slide"
    }
   },
   "source": [
    "## Text\n",
    "\n",
    "I promised to show you how to deal with Text data.\n",
    "\n",
    "Now you know: one-hot encoding of the vocabulary !\n",
    "\n",
    "That's only approximately true, as vocabularies can be quite large and thus, the vectors are very long.\n",
    "\n",
    "If there's time, I'll show you other approaches.\n",
    "\n",
    "**Example:** Preview of coming attractions (if we have time)\n",
    "\n",
    "Spam filtering example\n",
    "- each word is an indicator\n",
    "- what is the draw back (too many words, need sparse matrices)\n",
    "- feature engineering: an ALLCAP feature"
   ]
  },
  {
   "cell_type": "markdown",
   "metadata": {},
   "source": [
    "# Classifying Images\n",
    "\n",
    "## MNIST"
   ]
  },
  {
   "cell_type": "markdown",
   "metadata": {
    "slideshow": {
     "slide_type": "subslide"
    }
   },
   "source": [
    "### Fetch the data"
   ]
  },
  {
   "cell_type": "code",
   "execution_count": 34,
   "metadata": {
    "slideshow": {
     "slide_type": "slide"
    }
   },
   "outputs": [
    {
     "name": "stdout",
     "output_type": "stream",
     "text": [
      "Retrieving MNIST_784 from cache\n"
     ]
    }
   ],
   "source": [
    "import time\n",
    "import matplotlib.pyplot as plt\n",
    "import numpy as np\n",
    "\n",
    "import os\n",
    "\n",
    "from sklearn.datasets import fetch_openml\n",
    "from sklearn.linear_model import LogisticRegression\n",
    "from sklearn.model_selection import train_test_split\n",
    "from sklearn.preprocessing import StandardScaler\n",
    "from sklearn.utils import check_random_state\n",
    "\n",
    "from sklearn import datasets, svm, metrics\n",
    "\n",
    "def fetch_mnist_784():\n",
    "    # The fetch from the remote site is SLOW b/c the data is so big\n",
    "    # Try getting it from a local cache\n",
    "    cache_dir = \"cache/mnist_784\"\n",
    "    (X_file, y_file) = [ \"{c}/{f}.npy\".format(c=cache_dir, f=fn) for fn in [\"X\", \"y\"] ]\n",
    "\n",
    "    if os.path.isfile(X_file) and os.path.isfile(y_file):\n",
    "        print(\"Retrieving MNIST_784 from cache\")\n",
    "        X = np.load(X_file)\n",
    "        y = np.load(y_file)\n",
    "    else:\n",
    "        print(\"Retrieving MNIST_784 from remote\")\n",
    "        # Load data from hiittps://www.openml.org/d/554\n",
    "        X, y = fetch_openml('mnist_784', version=1, return_X_y=True)\n",
    "\n",
    "        # Cache it !\n",
    "        np.save(X_file, X)\n",
    "        np.save(y_file, y)\n",
    "        \n",
    "    return X,y\n",
    "\n",
    "\n",
    "# Author: Arthur Mensch <arthur.mensch@m4x.org>\n",
    "# License: BSD 3 clause\n",
    "\n",
    "# Turn down for faster convergence\n",
    "train_samples = 5000\n",
    "\n",
    "# Fetch the data\n",
    "X, y = fetch_mnist_784()\n",
    "\n",
    "random_state = check_random_state(0)\n",
    "permutation = random_state.permutation(X.shape[0])\n",
    "X = X[permutation]\n",
    "y = y[permutation]\n",
    "X = X.reshape((X.shape[0], -1))\n",
    "\n",
    "X_train, X_test, y_train, y_test = train_test_split(\n",
    "    X, y, train_size=train_samples, test_size=10000)\n",
    "\n",
    "scaler = StandardScaler()\n",
    "X_train = scaler.fit_transform(X_train)\n",
    "X_test = scaler.transform(X_test)"
   ]
  },
  {
   "cell_type": "code",
   "execution_count": 35,
   "metadata": {
    "slideshow": {
     "slide_type": "slide"
    }
   },
   "outputs": [
    {
     "name": "stdout",
     "output_type": "stream",
     "text": [
      "X_train shape:  (5000, 784)\n"
     ]
    }
   ],
   "source": [
    "print(\"X_train shape: \", X_train.shape)\n"
   ]
  },
  {
   "cell_type": "markdown",
   "metadata": {
    "slideshow": {
     "slide_type": "slide"
    }
   },
   "source": [
    "<div class=\"alert alert-block alert-success\">\n",
    "<b>TIP</b>\n",
    "    \n",
    "<font face=courier>fetch_mnist_784</font>\n",
    "takes a <b>long</b> time to execute.  Caching results makes you more productive.\n",
    "\n",
    "</div>"
   ]
  },
  {
   "cell_type": "markdown",
   "metadata": {
    "slideshow": {
     "slide_type": "slide"
    }
   },
   "source": [
    "### Visualize the training set"
   ]
  },
  {
   "cell_type": "code",
   "execution_count": 36,
   "metadata": {
    "slideshow": {
     "slide_type": "subslide"
    }
   },
   "outputs": [
    {
     "data": {
      "image/png": "[encoded data removed]",
      "text/plain": [
       "<Figure size 720x720 with 25 Axes>"
      ]
     },
     "metadata": {
      "needs_background": "light"
     },
     "output_type": "display_data"
    }
   ],
   "source": [
    "fig = plt.figure(figsize=(10,10))\n",
    "(num_rows, num_cols) = (5, 5)\n",
    "for i in range(0, num_rows * num_cols):\n",
    "    img = X_train[i].reshape(28, 28)\n",
    "  \n",
    "    ax  = fig.add_subplot(num_rows, num_cols, i+1)\n",
    "    _ = ax.set_axis_off()\n",
    "    \n",
    "    _ = plt.imshow(img, cmap=\"gray\")"
   ]
  },
  {
   "cell_type": "markdown",
   "metadata": {
    "slideshow": {
     "slide_type": "slide"
    }
   },
   "source": [
    "### Fit a model"
   ]
  },
  {
   "cell_type": "code",
   "execution_count": 37,
   "metadata": {
    "slideshow": {
     "slide_type": "slide"
    }
   },
   "outputs": [
    {
     "data": {
      "text/plain": [
       "((5000, 784), (5000,))"
      ]
     },
     "execution_count": 37,
     "metadata": {},
     "output_type": "execute_result"
    },
    {
     "data": {
      "text/plain": [
       "LogisticRegression(C=0.01, class_weight=None, dual=False, fit_intercept=True,\n",
       "          intercept_scaling=1, max_iter=100, multi_class='multinomial',\n",
       "          n_jobs=None, penalty='l2', random_state=None, solver='saga',\n",
       "          tol=0.1, verbose=0, warm_start=False)"
      ]
     },
     "execution_count": 37,
     "metadata": {},
     "output_type": "execute_result"
    },
    {
     "name": "stdout",
     "output_type": "stream",
     "text": [
      "Example run in 3.699 s\n"
     ]
    }
   ],
   "source": [
    "X_train.shape, y_train.shape\n",
    "\n",
    "# Turn up tolerance for faster convergence\n",
    "clf = LogisticRegression(C=50. / train_samples,  # n.b. C is 1/(regularization penalty)\n",
    "                         multi_class='multinomial',\n",
    "                         # penalty='l1',   # n.b., \"l1\" loss: sparsity (number of non-zero) >> \"l2\" loss (dafault)\n",
    "                         solver='saga', tol=0.1)\n",
    "\n",
    "t0 = time.time()\n",
    "\n",
    "# Fit the model\n",
    "clf.fit(X_train, y_train)\n",
    "\n",
    "run_time = time.time() - t0\n",
    "print('Example run in %.3f s' % run_time)"
   ]
  },
  {
   "cell_type": "markdown",
   "metadata": {
    "slideshow": {
     "slide_type": "slide"
    }
   },
   "source": [
    "Let's be clear on the number of coefficients we estimated\n",
    "\n",
    "- The $(28, 28)$ pixel matrix is flattened into $28 * 28 = 784$ features\n",
    "- We are doing OvA to get $10$ binary classiifers, one for each digit class\n",
    "    - technically, according to `LogisticRegression?`, `multinomial` use Cross Entropy loss"
   ]
  },
  {
   "cell_type": "code",
   "execution_count": 38,
   "metadata": {
    "slideshow": {
     "slide_type": "slide"
    }
   },
   "outputs": [
    {
     "name": "stdout",
     "output_type": "stream",
     "text": [
      "Coefficients dimension:  (10, 784)\n"
     ]
    },
    {
     "data": {
      "text/plain": [
       "array([132, 132, 132, 132, 132, 132, 132, 132, 132, 132])"
      ]
     },
     "execution_count": 38,
     "metadata": {},
     "output_type": "execute_result"
    }
   ],
   "source": [
    "print(\"Coefficients dimension: \", clf.coef_.shape)\n",
    "np.sum(clf.coef_ == 0, axis=1)"
   ]
  },
  {
   "cell_type": "code",
   "execution_count": 39,
   "metadata": {
    "slideshow": {
     "slide_type": "slide"
    }
   },
   "outputs": [
    {
     "name": "stdout",
     "output_type": "stream",
     "text": [
      "Sparsity with l2 penalty: 16.84.\n",
      "Test score with l2 penalty:0.8766\n"
     ]
    }
   ],
   "source": [
    "# How many zero coefficients were forced by the penalty ?\n",
    "sparsity = np.mean(clf.coef_ == 0) * 100\n",
    "score = clf.score(X_test, y_test)\n",
    "# print('Best C % .4f' % clf.C_)\n",
    "\n",
    "print(\"Sparsity with {p} penalty: {s:.2f}.\".format(p=clf.penalty, s=sparsity) )\n",
    "print(\"Test score with {p} penalty:{s:.4f}\".format(p=clf.penalty, s=score) )"
   ]
  },
  {
   "cell_type": "markdown",
   "metadata": {
    "slideshow": {
     "slide_type": "slide"
    }
   },
   "source": [
    "### Plot the coefficients, try to interpret\n",
    "\n",
    "What do the regression coefficients mean ?\n",
    "\n",
    "We'll deal with this more deeply in the module on Becoming A Successful Data Scientist but for now, let's visualize:\n",
    "- low weights (e.g., negative) are black\n",
    "- high weights are white"
   ]
  },
  {
   "cell_type": "code",
   "execution_count": 40,
   "metadata": {
    "slideshow": {
     "slide_type": "slide"
    }
   },
   "outputs": [
    {
     "name": "stdout",
     "output_type": "stream",
     "text": [
      "Coefficients shape (10, 784), range from -0.08 to 0.08\n"
     ]
    }
   ],
   "source": [
    "# Plot the coefficients (length 784) for each of the 10 digits\n",
    "print(\"Coefficients shape {s}, range from {mn:.2f} to {mx:.2f}\".format(s=clf.coef_.shape, mn= clf.coef_.min(), mx=clf.coef_.max()) )\n",
    "\n",
    "def plot_coeff():\n",
    "    fig = plt.figure(figsize=(10, 5))\n",
    "    coef = clf.coef_.copy()\n",
    "\n",
    "\n",
    "    (num_rows, num_cols) = (2,5)\n",
    "\n",
    "    scale = np.abs(coef).max()\n",
    "    for i in range(10):\n",
    "        ax = fig.add_subplot(num_rows, num_cols, i+1)\n",
    "\n",
    "        # Show the coefficients for digit i\n",
    "        # Reshape it from (784,) to (28, 28) so can interpret it\n",
    "        _ = ax.imshow(coef[i].reshape(28, 28), interpolation='nearest',\n",
    "                       cmap=\"gray\", #plt.cm.RdBu, \n",
    "                       vmin=-scale, vmax=scale)\n",
    "\n",
    "        _ = ax.set_xticks(())\n",
    "        _ = ax.set_yticks(())\n",
    "        _ = ax.set_xlabel('Class %i' % i)\n",
    "\n",
    "    fig.suptitle('Classification vector for...')\n",
    "\n",
    "    \n",
    "    _ = fig.show()"
   ]
  },
  {
   "cell_type": "code",
   "execution_count": 41,
   "metadata": {},
   "outputs": [
    {
     "name": "stderr",
     "output_type": "stream",
     "text": [
      "/home/kjp/anaconda3/lib/python3.6/site-packages/matplotlib/figure.py:445: UserWarning: Matplotlib is currently using module://ipykernel.pylab.backend_inline, which is a non-GUI backend, so cannot show the figure.\n",
      "  % get_backend())\n"
     ]
    },
    {
     "data": {
      "image/png": "[encoded data removed]",
      "text/plain": [
       "<Figure size 720x360 with 10 Axes>"
      ]
     },
     "metadata": {},
     "output_type": "display_data"
    }
   ],
   "source": [
    "plot_coeff()"
   ]
  },
  {
   "cell_type": "markdown",
   "metadata": {
    "slideshow": {
     "slide_type": "slide"
    }
   },
   "source": [
    "## Model diagnostics: Classification report, confusion matrix\n",
    "\n",
    "We'll deal with this more deeply in the module on Becoming A Successful Data Scientist but for now:\n"
   ]
  },
  {
   "cell_type": "code",
   "execution_count": 42,
   "metadata": {
    "slideshow": {
     "slide_type": "subslide"
    }
   },
   "outputs": [],
   "source": [
    "# Now predict the value of the digit on the second half:\n",
    "expected = y_test\n",
    "predicted = clf.predict(X_test)\n",
    "\n",
    "confusion_mat = metrics.confusion_matrix(expected, predicted)\n",
    "\n"
   ]
  },
  {
   "cell_type": "markdown",
   "metadata": {
    "slideshow": {
     "slide_type": "slide"
    }
   },
   "source": [
    "### Show the math beind precison and recall"
   ]
  },
  {
   "cell_type": "code",
   "execution_count": 43,
   "metadata": {
    "slideshow": {
     "slide_type": "subslide"
    }
   },
   "outputs": [
    {
     "name": "stdout",
     "output_type": "stream",
     "text": [
      "Confusion matrix shape:  (10, 10)\n",
      "Confusion matrix col sums:  [ 999 1321  888 1067 1024  824 1008 1028  845  996]\n",
      "Confusion matrix row sums:  [ 970 1120  956 1078  987  918  962 1047  971  991]\n",
      "0: precision 0.92, recall 0.95\n",
      "1: precision 0.83, recall 0.98\n",
      "2: precision 0.91, recall 0.84\n",
      "3: precision 0.86, recall 0.85\n",
      "4: precision 0.87, recall 0.91\n",
      "5: precision 0.86, recall 0.77\n",
      "6: precision 0.90, recall 0.94\n",
      "7: precision 0.91, recall 0.90\n",
      "8: precision 0.87, recall 0.76\n",
      "9: precision 0.85, recall 0.85\n"
     ]
    }
   ],
   "source": [
    "print(\"Confusion matrix shape: \", confusion_mat.shape)\n",
    "print(\"Confusion matrix col sums: \", np.sum(confusion_mat, axis=0))\n",
    "print(\"Confusion matrix row sums: \", np.sum(confusion_mat, axis=1))\n",
    "\n",
    "# Compute recall by hand\n",
    "for i in range(0,10):\n",
    "    # True positives are on the diagonal\n",
    "    TP = confusion_mat[i,i]\n",
    "    \n",
    "    # False positives\n",
    "    # Column i contains the observations that were classified (correctly or incorrectly) as i\n",
    "    FP =np.sum(confusion_mat, axis=0)[i] -TP\n",
    "    \n",
    "    num_true_i = np.sum(confusion_mat, axis=1)[i]\n",
    "    num_classified_i = np.sum(confusion_mat, axis=0)[i]\n",
    "    \n",
    "    recall    = TP/num_true_i\n",
    "    precision = TP/num_classified_i\n",
    "    \n",
    "    print(\"{i}: precision {p:3.2f}, recall {r:3.2f}\".format(i=i, r=recall, p=precision) )"
   ]
  },
  {
   "cell_type": "code",
   "execution_count": 44,
   "metadata": {
    "slideshow": {
     "slide_type": "subslide"
    }
   },
   "outputs": [
    {
     "name": "stdout",
     "output_type": "stream",
     "text": [
      "Classification report for classifier LogisticRegression(C=0.01, class_weight=None, dual=False, fit_intercept=True,\n",
      "          intercept_scaling=1, max_iter=100, multi_class='multinomial',\n",
      "          n_jobs=None, penalty='l2', random_state=None, solver='saga',\n",
      "          tol=0.1, verbose=0, warm_start=False):\n",
      "              precision    recall  f1-score   support\n",
      "\n",
      "           0       0.92      0.95      0.94       970\n",
      "           1       0.83      0.98      0.90      1120\n",
      "           2       0.91      0.84      0.87       956\n",
      "           3       0.86      0.85      0.86      1078\n",
      "           4       0.87      0.91      0.89       987\n",
      "           5       0.86      0.77      0.81       918\n",
      "           6       0.90      0.94      0.92       962\n",
      "           7       0.91      0.90      0.91      1047\n",
      "           8       0.87      0.76      0.81       971\n",
      "           9       0.85      0.85      0.85       991\n",
      "\n",
      "   micro avg       0.88      0.88      0.88     10000\n",
      "   macro avg       0.88      0.87      0.87     10000\n",
      "weighted avg       0.88      0.88      0.88     10000\n",
      "\n",
      "\n"
     ]
    }
   ],
   "source": [
    "print(\"Classification report for classifier %s:\\n%s\\n\"\n",
    "      % (clf, metrics.classification_report(expected, predicted)))\n",
    "\n"
   ]
  },
  {
   "cell_type": "markdown",
   "metadata": {
    "slideshow": {
     "slide_type": "slide"
    }
   },
   "source": [
    "### Confusion matrix"
   ]
  },
  {
   "cell_type": "code",
   "execution_count": 45,
   "metadata": {
    "slideshow": {
     "slide_type": "subslide"
    }
   },
   "outputs": [],
   "source": [
    "import itertools\n",
    "\n",
    "def plot_confusion_matrix(cm, classes,\n",
    "                          normalize=False,\n",
    "                          title='Confusion matrix',\n",
    "                          cmap=plt.cm.Blues):\n",
    "    \"\"\"\n",
    "    This function prints and plots the confusion matrix.\n",
    "    Normalization can be applied by setting `normalize=True`.\n",
    "    \"\"\"\n",
    "    if normalize:\n",
    "        # Normalize by row sums\n",
    "        cm_pct = cm.astype('float') / cm.sum(axis=1)[:, np.newaxis]\n",
    "        cm = np.around( 100 * cm_pct, decimals=0).astype(int)\n",
    "        \n",
    "        print(\"Normalized confusion matrix\")\n",
    "    else:\n",
    "        print('Confusion matrix, without normalization')\n",
    "\n",
    "    plt.imshow(cm, interpolation='nearest', cmap=cmap)\n",
    "    plt.title(title)\n",
    "    plt.colorbar()\n",
    "    tick_marks = np.arange(len(classes))\n",
    "    plt.xticks(tick_marks, classes, rotation=45)\n",
    "    plt.yticks(tick_marks, classes)\n",
    "\n",
    "    fmt = '.2f' if normalize else 'd'\n",
    "    fmt = 'd'\n",
    "    thresh = cm.max() / 2.\n",
    "    for i, j in itertools.product(range(cm.shape[0]), range(cm.shape[1])):\n",
    "        # Plot coordinate system has origin in upper left corner\n",
    "        # -  coordinates are (horizontal offset, vertical offset)\n",
    "        # -  so cm[i,j] should appear in plot coordinate (j,i)\n",
    "        plt.text(j, i, format(cm[i, j], fmt),\n",
    "                 horizontalalignment=\"center\",\n",
    "                 color=\"white\" if cm[i, j] > thresh else \"black\")\n",
    "\n",
    "    plt.ylabel('True label')\n",
    "    plt.xlabel('Predicted label')\n",
    "    plt.tight_layout()\n"
   ]
  },
  {
   "cell_type": "code",
   "execution_count": 46,
   "metadata": {
    "slideshow": {
     "slide_type": "subslide"
    }
   },
   "outputs": [
    {
     "name": "stdout",
     "output_type": "stream",
     "text": [
      "Confusion matrix, without normalization\n"
     ]
    },
    {
     "data": {
      "image/png": "[encoded data removed]",
      "text/plain": [
       "<Figure size 432x288 with 2 Axes>"
      ]
     },
     "metadata": {
      "needs_background": "light"
     },
     "output_type": "display_data"
    }
   ],
   "source": [
    "plot_confusion_matrix(confusion_mat, range(10))"
   ]
  },
  {
   "cell_type": "markdown",
   "metadata": {
    "slideshow": {
     "slide_type": "subslide"
    }
   },
   "source": [
    "#### Recall is the diagonal of the normalized confusion matrix"
   ]
  },
  {
   "cell_type": "code",
   "execution_count": 47,
   "metadata": {
    "slideshow": {
     "slide_type": "subslide"
    }
   },
   "outputs": [
    {
     "name": "stdout",
     "output_type": "stream",
     "text": [
      "Normalized confusion matrix\n"
     ]
    },
    {
     "data": {
      "image/png": "[encoded data removed]",
      "text/plain": [
       "<Figure size 432x288 with 2 Axes>"
      ]
     },
     "metadata": {
      "needs_background": "light"
     },
     "output_type": "display_data"
    }
   ],
   "source": [
    "# plot_confusion_matrix( np.around( confusion_mat_pct * 100, decimals=0).astype(int), range(10) )\n",
    "plot_confusion_matrix(confusion_mat, range(10), normalize=True)"
   ]
  },
  {
   "cell_type": "markdown",
   "metadata": {
    "slideshow": {
     "slide_type": "slide"
    }
   },
   "source": [
    "# Recap\n",
    "\n",
    "- We saw how to deal with a non-numeric targets and features\n",
    "- We saw some real-life transformation\n",
    "    - We saw a real Data Transformation pipeline\n",
    "        - feature union\n",
    "        - was able to transform Pandas DataFrame !\n",
    "        - data cleaning via Imputer\n",
    "        - One Hot Encoding\n",
    "\n",
    "- Multiple models for no extra cost !\n",
    "    - snuck in RandomForest and SVC classifiers - more later\n",
    "    - only 1 line (instantiate model) changes !\n",
    "\n",
    "- First pass and data cleaning - more later\n"
   ]
  },
  {
   "cell_type": "code",
   "execution_count": 48,
   "metadata": {
    "slideshow": {
     "slide_type": "subslide"
    }
   },
   "outputs": [
    {
     "name": "stdout",
     "output_type": "stream",
     "text": [
      "Done\n"
     ]
    }
   ],
   "source": [
    "print(\"Done\")"
   ]
  }
 ],
 "metadata": {
  "celltoolbar": "Slideshow",
  "kernelspec": {
   "display_name": "Python 3",
   "language": "python",
   "name": "python3"
  },
  "language_info": {
   "codemirror_mode": {
    "name": "ipython",
    "version": 3
   },
   "file_extension": ".py",
   "mimetype": "text/x-python",
   "name": "python",
   "nbconvert_exporter": "python",
   "pygments_lexer": "ipython3",
   "version": "3.6.6"
  },
  "toc": {
   "base_numbering": 1,
   "nav_menu": {},
   "number_sections": true,
   "sideBar": true,
   "skip_h1_title": false,
   "title_cell": "Table of Contents",
   "title_sidebar": "Contents",
   "toc_cell": false,
   "toc_position": {
    "height": "calc(100% - 180px)",
    "left": "10px",
    "top": "150px",
    "width": "368px"
   },
   "toc_section_display": true,
   "toc_window_display": true
  }
 },
 "nbformat": 4,
 "nbformat_minor": 2
}
